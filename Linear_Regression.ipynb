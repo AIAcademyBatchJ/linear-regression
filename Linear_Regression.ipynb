{
 "cells": [
  {
   "cell_type": "markdown",
   "metadata": {},
   "source": [
    "### Linear Regression\n",
    "\n",
    "- One of the supervised learning methods, linear regression is a linear approach for modelling the relationship between a scalar response and one or more explanatory variables (also known as dependent and independent variables).\n",
    "- A linear regression line has an equation of the form `Y = a + bX`, where X is the explanatory variable and Y is the dependent variable. The slope of the line is b, and a is the intercept (the value of y when x = 0).\n",
    "- Linear regression focuses on the conditional probability distribution of the response given the values of the predictors."
   ]
  },
  {
   "cell_type": "markdown",
   "metadata": {},
   "source": [
    "### Objective\n",
    "\n",
    "A simple marketing effectiveness model where we try to capture the impact of various marketing and promotional activities on volume sales\n",
    "\n",
    "### Data Description\n",
    "\n",
    "- Data captured over 2 years\n",
    "- No. of obs = 104 – so we can compare 52 weeks v/s 52 weeks\n",
    "- Target = NewVolSales\n",
    "- Base Price = Price of a product without any promotion\n",
    "- Radio/TV = captured trps\n",
    "- InStore = % of stores having some in-store promotions happening per week\n",
    "- Discount = % of discount offered on an average by stores each week\n",
    "- Stockout = % of stores having products stock out in a week, which means that the customer is in the store but the product is missing\n",
    "- Website Campaign = indicates the presence or absence of web promotional activities in a given week – so the column contains Web C, Twitter and Fb\n",
    "- NewspaperInserts = indicates the presence of promotion using newspaper inserts in a given week\n"
   ]
  },
  {
   "cell_type": "markdown",
   "metadata": {},
   "source": [
    "### Loading Data"
   ]
  },
  {
   "cell_type": "code",
   "execution_count": 1,
   "metadata": {},
   "outputs": [],
   "source": [
    "import os\n",
    "os.chdir('C:\\\\Users\\\\fabi\\\\Desktop\\\\DONO\\\\Manipal_Deloitte\\\\Linear Regression')"
   ]
  },
  {
   "cell_type": "code",
   "execution_count": 1,
   "metadata": {},
   "outputs": [],
   "source": [
    "## Importing necessary libraries\n",
    "\n",
    "import pandas as pd\n",
    "from pandas import DataFrame\n",
    "import numpy as np\n",
    "import matplotlib.pyplot as plt\n",
    "%matplotlib inline"
   ]
  },
  {
   "cell_type": "code",
   "execution_count": 2,
   "metadata": {},
   "outputs": [],
   "source": [
    "## Reading the data\n",
    "data = pd.read_csv(\"mktmix.csv\")"
   ]
  },
  {
   "cell_type": "code",
   "execution_count": 3,
   "metadata": {},
   "outputs": [
    {
     "data": {
      "text/html": [
       "<div>\n",
       "<style scoped>\n",
       "    .dataframe tbody tr th:only-of-type {\n",
       "        vertical-align: middle;\n",
       "    }\n",
       "\n",
       "    .dataframe tbody tr th {\n",
       "        vertical-align: top;\n",
       "    }\n",
       "\n",
       "    .dataframe thead th {\n",
       "        text-align: right;\n",
       "    }\n",
       "</style>\n",
       "<table border=\"1\" class=\"dataframe\">\n",
       "  <thead>\n",
       "    <tr style=\"text-align: right;\">\n",
       "      <th></th>\n",
       "      <th>NewVolSales</th>\n",
       "      <th>Base_Price</th>\n",
       "      <th>Radio</th>\n",
       "      <th>InStore</th>\n",
       "      <th>NewspaperInserts</th>\n",
       "      <th>Discount</th>\n",
       "      <th>TV</th>\n",
       "      <th>Stout</th>\n",
       "      <th>Website_Campaign</th>\n",
       "    </tr>\n",
       "  </thead>\n",
       "  <tbody>\n",
       "    <tr>\n",
       "      <th>0</th>\n",
       "      <td>19564</td>\n",
       "      <td>15.029276</td>\n",
       "      <td>245.0</td>\n",
       "      <td>15.452</td>\n",
       "      <td>NaN</td>\n",
       "      <td>0.000</td>\n",
       "      <td>101.780000</td>\n",
       "      <td>2.28342</td>\n",
       "      <td>NaN</td>\n",
       "    </tr>\n",
       "    <tr>\n",
       "      <th>1</th>\n",
       "      <td>19387</td>\n",
       "      <td>15.029276</td>\n",
       "      <td>314.0</td>\n",
       "      <td>16.388</td>\n",
       "      <td>NaN</td>\n",
       "      <td>0.000</td>\n",
       "      <td>76.734000</td>\n",
       "      <td>2.22134</td>\n",
       "      <td>NaN</td>\n",
       "    </tr>\n",
       "    <tr>\n",
       "      <th>2</th>\n",
       "      <td>23889</td>\n",
       "      <td>14.585093</td>\n",
       "      <td>324.0</td>\n",
       "      <td>62.692</td>\n",
       "      <td>NaN</td>\n",
       "      <td>0.050</td>\n",
       "      <td>131.590200</td>\n",
       "      <td>2.00604</td>\n",
       "      <td>NaN</td>\n",
       "    </tr>\n",
       "    <tr>\n",
       "      <th>3</th>\n",
       "      <td>20055</td>\n",
       "      <td>15.332887</td>\n",
       "      <td>298.0</td>\n",
       "      <td>16.573</td>\n",
       "      <td>NaN</td>\n",
       "      <td>0.000</td>\n",
       "      <td>119.627060</td>\n",
       "      <td>2.19897</td>\n",
       "      <td>NaN</td>\n",
       "    </tr>\n",
       "    <tr>\n",
       "      <th>4</th>\n",
       "      <td>20064</td>\n",
       "      <td>15.642632</td>\n",
       "      <td>279.0</td>\n",
       "      <td>41.504</td>\n",
       "      <td>NaN</td>\n",
       "      <td>0.045</td>\n",
       "      <td>103.438118</td>\n",
       "      <td>1.81860</td>\n",
       "      <td>NaN</td>\n",
       "    </tr>\n",
       "  </tbody>\n",
       "</table>\n",
       "</div>"
      ],
      "text/plain": [
       "   NewVolSales  Base_Price  Radio   InStore NewspaperInserts  Discount  \\\n",
       "0        19564   15.029276   245.0   15.452              NaN     0.000   \n",
       "1        19387   15.029276   314.0   16.388              NaN     0.000   \n",
       "2        23889   14.585093   324.0   62.692              NaN     0.050   \n",
       "3        20055   15.332887   298.0   16.573              NaN     0.000   \n",
       "4        20064   15.642632   279.0   41.504              NaN     0.045   \n",
       "\n",
       "           TV    Stout Website_Campaign   \n",
       "0  101.780000  2.28342               NaN  \n",
       "1   76.734000  2.22134               NaN  \n",
       "2  131.590200  2.00604               NaN  \n",
       "3  119.627060  2.19897               NaN  \n",
       "4  103.438118  1.81860               NaN  "
      ]
     },
     "execution_count": 3,
     "metadata": {},
     "output_type": "execute_result"
    }
   ],
   "source": [
    "data.head()"
   ]
  },
  {
   "cell_type": "markdown",
   "metadata": {},
   "source": [
    "### Data Cleaning & Exploration"
   ]
  },
  {
   "cell_type": "code",
   "execution_count": 4,
   "metadata": {},
   "outputs": [
    {
     "data": {
      "text/plain": [
       "(104, 9)"
      ]
     },
     "execution_count": 4,
     "metadata": {},
     "output_type": "execute_result"
    }
   ],
   "source": [
    "## Number of rows & cols\n",
    "data.shape"
   ]
  },
  {
   "cell_type": "code",
   "execution_count": 5,
   "metadata": {},
   "outputs": [
    {
     "data": {
      "text/html": [
       "<div>\n",
       "<style scoped>\n",
       "    .dataframe tbody tr th:only-of-type {\n",
       "        vertical-align: middle;\n",
       "    }\n",
       "\n",
       "    .dataframe tbody tr th {\n",
       "        vertical-align: top;\n",
       "    }\n",
       "\n",
       "    .dataframe thead th {\n",
       "        text-align: right;\n",
       "    }\n",
       "</style>\n",
       "<table border=\"1\" class=\"dataframe\">\n",
       "  <thead>\n",
       "    <tr style=\"text-align: right;\">\n",
       "      <th></th>\n",
       "      <th>NewVolSales</th>\n",
       "      <th>Base_Price</th>\n",
       "      <th>Radio</th>\n",
       "      <th>InStore</th>\n",
       "      <th>Discount</th>\n",
       "      <th>TV</th>\n",
       "      <th>Stout</th>\n",
       "    </tr>\n",
       "  </thead>\n",
       "  <tbody>\n",
       "    <tr>\n",
       "      <th>count</th>\n",
       "      <td>104.00</td>\n",
       "      <td>104.00</td>\n",
       "      <td>100.00</td>\n",
       "      <td>104.00</td>\n",
       "      <td>104.00</td>\n",
       "      <td>104.00</td>\n",
       "      <td>104.00</td>\n",
       "    </tr>\n",
       "    <tr>\n",
       "      <th>mean</th>\n",
       "      <td>20171.07</td>\n",
       "      <td>15.31</td>\n",
       "      <td>256.69</td>\n",
       "      <td>32.92</td>\n",
       "      <td>0.02</td>\n",
       "      <td>141.01</td>\n",
       "      <td>2.55</td>\n",
       "    </tr>\n",
       "    <tr>\n",
       "      <th>std</th>\n",
       "      <td>1578.60</td>\n",
       "      <td>0.53</td>\n",
       "      <td>86.99</td>\n",
       "      <td>13.68</td>\n",
       "      <td>0.03</td>\n",
       "      <td>42.95</td>\n",
       "      <td>0.31</td>\n",
       "    </tr>\n",
       "    <tr>\n",
       "      <th>min</th>\n",
       "      <td>17431.00</td>\n",
       "      <td>13.74</td>\n",
       "      <td>0.00</td>\n",
       "      <td>10.78</td>\n",
       "      <td>0.00</td>\n",
       "      <td>37.66</td>\n",
       "      <td>1.82</td>\n",
       "    </tr>\n",
       "    <tr>\n",
       "      <th>25%</th>\n",
       "      <td>19048.75</td>\n",
       "      <td>15.03</td>\n",
       "      <td>235.00</td>\n",
       "      <td>22.18</td>\n",
       "      <td>0.00</td>\n",
       "      <td>117.11</td>\n",
       "      <td>2.32</td>\n",
       "    </tr>\n",
       "    <tr>\n",
       "      <th>50%</th>\n",
       "      <td>19943.50</td>\n",
       "      <td>15.33</td>\n",
       "      <td>278.50</td>\n",
       "      <td>31.16</td>\n",
       "      <td>0.00</td>\n",
       "      <td>138.58</td>\n",
       "      <td>2.50</td>\n",
       "    </tr>\n",
       "    <tr>\n",
       "      <th>75%</th>\n",
       "      <td>20942.75</td>\n",
       "      <td>15.64</td>\n",
       "      <td>313.25</td>\n",
       "      <td>41.08</td>\n",
       "      <td>0.05</td>\n",
       "      <td>175.68</td>\n",
       "      <td>2.81</td>\n",
       "    </tr>\n",
       "    <tr>\n",
       "      <th>max</th>\n",
       "      <td>24944.00</td>\n",
       "      <td>16.28</td>\n",
       "      <td>399.00</td>\n",
       "      <td>68.12</td>\n",
       "      <td>0.09</td>\n",
       "      <td>240.29</td>\n",
       "      <td>3.16</td>\n",
       "    </tr>\n",
       "  </tbody>\n",
       "</table>\n",
       "</div>"
      ],
      "text/plain": [
       "       NewVolSales  Base_Price  Radio   InStore  Discount     TV  Stout\n",
       "count       104.00      104.00  100.00   104.00    104.00 104.00 104.00\n",
       "mean      20171.07       15.31  256.69    32.92      0.02 141.01   2.55\n",
       "std        1578.60        0.53   86.99    13.68      0.03  42.95   0.31\n",
       "min       17431.00       13.74    0.00    10.78      0.00  37.66   1.82\n",
       "25%       19048.75       15.03  235.00    22.18      0.00 117.11   2.32\n",
       "50%       19943.50       15.33  278.50    31.16      0.00 138.58   2.50\n",
       "75%       20942.75       15.64  313.25    41.08      0.05 175.68   2.81\n",
       "max       24944.00       16.28  399.00    68.12      0.09 240.29   3.16"
      ]
     },
     "execution_count": 5,
     "metadata": {},
     "output_type": "execute_result"
    }
   ],
   "source": [
    "## Descriptive statistics\n",
    "pd.options.display.float_format = '{:.2f}'.format\n",
    "data.describe()"
   ]
  },
  {
   "cell_type": "code",
   "execution_count": 6,
   "metadata": {},
   "outputs": [
    {
     "data": {
      "text/plain": [
       "Index(['NewVolSales', 'Base_Price', 'Radio ', 'InStore', 'NewspaperInserts',\n",
       "       'Discount', 'TV', 'Stout', 'Website_Campaign '],\n",
       "      dtype='object')"
      ]
     },
     "execution_count": 6,
     "metadata": {},
     "output_type": "execute_result"
    }
   ],
   "source": [
    "## Columns of the data loaded\n",
    "data.columns"
   ]
  },
  {
   "cell_type": "code",
   "execution_count": 7,
   "metadata": {},
   "outputs": [
    {
     "data": {
      "text/plain": [
       "NewVolSales            int64\n",
       "Base_Price           float64\n",
       "Radio                float64\n",
       "InStore              float64\n",
       "NewspaperInserts      object\n",
       "Discount             float64\n",
       "TV                   float64\n",
       "Stout                float64\n",
       "Website_Campaign      object\n",
       "dtype: object"
      ]
     },
     "execution_count": 7,
     "metadata": {},
     "output_type": "execute_result"
    }
   ],
   "source": [
    "## Types of data in each column\n",
    "data.dtypes"
   ]
  },
  {
   "cell_type": "code",
   "execution_count": 8,
   "metadata": {},
   "outputs": [],
   "source": [
    "## Cleaning up the column names \n",
    "data.rename(columns={'Website_Campaign ':'Website_Campaign'}, inplace=True)\n",
    "data.rename(columns={'Radio ':'Radio'}, inplace=True)\n",
    "data.rename(columns={'TV ':\"TV\"}, inplace=True)"
   ]
  },
  {
   "cell_type": "code",
   "execution_count": 9,
   "metadata": {},
   "outputs": [
    {
     "data": {
      "text/plain": [
       "array([nan, 'Facebook', 'Twitter', 'Website Campaign '], dtype=object)"
      ]
     },
     "execution_count": 9,
     "metadata": {},
     "output_type": "execute_result"
    }
   ],
   "source": [
    "## Unique values of website_campaign\n",
    "data['Website_Campaign'].unique()"
   ]
  },
  {
   "cell_type": "code",
   "execution_count": 10,
   "metadata": {},
   "outputs": [],
   "source": [
    "## Cleaning up values of website_campaign col\n",
    "data['Website_Campaign'] = np.where((data['Website_Campaign']=='Website Campaign '), 'Website_Campaign',\n",
    "                                   data['Website_Campaign'])"
   ]
  },
  {
   "cell_type": "code",
   "execution_count": 11,
   "metadata": {},
   "outputs": [
    {
     "data": {
      "text/plain": [
       "array([nan, 'Facebook', 'Twitter', 'Website_Campaign'], dtype=object)"
      ]
     },
     "execution_count": 11,
     "metadata": {},
     "output_type": "execute_result"
    }
   ],
   "source": [
    "data['Website_Campaign'].unique()"
   ]
  },
  {
   "cell_type": "markdown",
   "metadata": {},
   "source": [
    "###### Skewness\n",
    "\n",
    "- Skewness is the degree of asymmetry observed in a probability distribution.\n",
    "- Distributions can exhibit right (positive) skewness or left (negative) skewness to varying degrees. A normal distribution (bell curve) exhibits zero skewness.\n",
    "\n",
    "###### Outliers\n",
    "- Outliers are observations that lie far away from majority of observations in the dataset"
   ]
  },
  {
   "cell_type": "code",
   "execution_count": 12,
   "metadata": {},
   "outputs": [
    {
     "name": "stdout",
     "output_type": "stream",
     "text": [
      "count   104.00\n",
      "mean     15.31\n",
      "std       0.53\n",
      "min      13.74\n",
      "25%      15.03\n",
      "50%      15.33\n",
      "75%      15.64\n",
      "max      16.28\n",
      "Name: Base_Price, dtype: float64\n"
     ]
    }
   ],
   "source": [
    "## Closer look at the summary stats of the base price column\n",
    "print(data[\"Base_Price\"].describe())"
   ]
  },
  {
   "cell_type": "markdown",
   "metadata": {},
   "source": [
    "Looking at the min, max and mean, there is a possibility of the data being negatively skewed. "
   ]
  },
  {
   "cell_type": "markdown",
   "metadata": {},
   "source": [
    "###### Histogram\n",
    "\n",
    "- A histogram is a graphical representation that organizes a group of data points into user-specified ranges. \n",
    "- Similar in appearance to a bar graph, the histogram condenses a data series into an easily interpreted visual by taking many data points and grouping them into logical ranges or bins.\n",
    "- When data are skewed, the majority of the data are located on one side of the histogram."
   ]
  },
  {
   "cell_type": "code",
   "execution_count": 13,
   "metadata": {},
   "outputs": [
    {
     "data": {
      "text/plain": [
       "<AxesSubplot:ylabel='Frequency'>"
      ]
     },
     "execution_count": 13,
     "metadata": {},
     "output_type": "execute_result"
    },
    {
     "data": {
      "image/png": "[encoded data removed]",
      "text/plain": [
       "<Figure size 432x288 with 1 Axes>"
      ]
     },
     "metadata": {
      "needs_background": "light"
     },
     "output_type": "display_data"
    }
   ],
   "source": [
    "## Histogram of base_price\n",
    "data.Base_Price.plot(kind='hist')"
   ]
  },
  {
   "cell_type": "markdown",
   "metadata": {},
   "source": [
    "Long tail on the LHS indicating negative skewness"
   ]
  },
  {
   "cell_type": "markdown",
   "metadata": {},
   "source": [
    "##### Boxplot\n",
    "\n",
    "![alt text](https://miro.medium.com/max/1400/1*2c21SkzJMf3frPXPAR_gZA.png \"Title\")\n",
    "\n",
    "- A boxplot is a standardized way of displaying the distribution of data based on a five number summary (“minimum”, first quartile (Q1), median, third quartile (Q3), and “maximum”). \n",
    "- It can give information on the outliers (if any) and what their values are. It may also help us understand if the data is symmetrical, how tightly the data is grouped, and if and how the data is skewed."
   ]
  },
  {
   "cell_type": "code",
   "execution_count": 14,
   "metadata": {},
   "outputs": [
    {
     "data": {
      "text/plain": [
       "<AxesSubplot:>"
      ]
     },
     "execution_count": 14,
     "metadata": {},
     "output_type": "execute_result"
    },
    {
     "data": {
      "image/png": "[encoded data removed]",
      "text/plain": [
       "<Figure size 432x288 with 1 Axes>"
      ]
     },
     "metadata": {
      "needs_background": "light"
     },
     "output_type": "display_data"
    }
   ],
   "source": [
    "## Boxplot of base_price\n",
    "data.boxplot(column='Base_Price')"
   ]
  },
  {
   "cell_type": "markdown",
   "metadata": {},
   "source": [
    "We see extreme values and potential outliers on the lower tail"
   ]
  },
  {
   "cell_type": "code",
   "execution_count": 15,
   "metadata": {},
   "outputs": [
    {
     "data": {
      "text/plain": [
       "0.00   13.74\n",
       "0.10   14.59\n",
       "0.20   14.97\n",
       "0.30   15.03\n",
       "0.40   15.18\n",
       "0.50   15.33\n",
       "0.60   15.49\n",
       "0.70   15.64\n",
       "0.80   15.80\n",
       "0.90   15.96\n",
       "Name: Base_Price, dtype: float64"
      ]
     },
     "execution_count": 15,
     "metadata": {},
     "output_type": "execute_result"
    }
   ],
   "source": [
    "## Digging for potential outliers using quantiles\n",
    "data['Base_Price'].quantile(np.arange(0,1,0.1))"
   ]
  },
  {
   "cell_type": "code",
   "execution_count": 16,
   "metadata": {},
   "outputs": [],
   "source": [
    "q = data['Base_Price'].quantile(0.01)"
   ]
  },
  {
   "cell_type": "code",
   "execution_count": 17,
   "metadata": {},
   "outputs": [
    {
     "name": "stdout",
     "output_type": "stream",
     "text": [
      "13.8779529113\n"
     ]
    }
   ],
   "source": [
    "print(q)"
   ]
  },
  {
   "cell_type": "code",
   "execution_count": 18,
   "metadata": {},
   "outputs": [
    {
     "data": {
      "text/html": [
       "<div>\n",
       "<style scoped>\n",
       "    .dataframe tbody tr th:only-of-type {\n",
       "        vertical-align: middle;\n",
       "    }\n",
       "\n",
       "    .dataframe tbody tr th {\n",
       "        vertical-align: top;\n",
       "    }\n",
       "\n",
       "    .dataframe thead th {\n",
       "        text-align: right;\n",
       "    }\n",
       "</style>\n",
       "<table border=\"1\" class=\"dataframe\">\n",
       "  <thead>\n",
       "    <tr style=\"text-align: right;\">\n",
       "      <th></th>\n",
       "      <th>NewVolSales</th>\n",
       "      <th>Base_Price</th>\n",
       "      <th>Radio</th>\n",
       "      <th>InStore</th>\n",
       "      <th>NewspaperInserts</th>\n",
       "      <th>Discount</th>\n",
       "      <th>TV</th>\n",
       "      <th>Stout</th>\n",
       "      <th>Website_Campaign</th>\n",
       "    </tr>\n",
       "  </thead>\n",
       "  <tbody>\n",
       "    <tr>\n",
       "      <th>74</th>\n",
       "      <td>24468</td>\n",
       "      <td>13.74</td>\n",
       "      <td>251.00</td>\n",
       "      <td>37.84</td>\n",
       "      <td>NaN</td>\n",
       "      <td>0.05</td>\n",
       "      <td>135.15</td>\n",
       "      <td>2.66</td>\n",
       "      <td>NaN</td>\n",
       "    </tr>\n",
       "    <tr>\n",
       "      <th>76</th>\n",
       "      <td>21710</td>\n",
       "      <td>13.87</td>\n",
       "      <td>261.00</td>\n",
       "      <td>34.22</td>\n",
       "      <td>NaN</td>\n",
       "      <td>0.00</td>\n",
       "      <td>148.71</td>\n",
       "      <td>2.98</td>\n",
       "      <td>NaN</td>\n",
       "    </tr>\n",
       "  </tbody>\n",
       "</table>\n",
       "</div>"
      ],
      "text/plain": [
       "    NewVolSales  Base_Price  Radio  InStore NewspaperInserts  Discount     TV  \\\n",
       "74        24468       13.74 251.00    37.84              NaN      0.05 135.15   \n",
       "76        21710       13.87 261.00    34.22              NaN      0.00 148.71   \n",
       "\n",
       "    Stout Website_Campaign  \n",
       "74   2.66              NaN  \n",
       "76   2.98              NaN  "
      ]
     },
     "execution_count": 18,
     "metadata": {},
     "output_type": "execute_result"
    }
   ],
   "source": [
    "data[data.Base_Price < q]"
   ]
  },
  {
   "cell_type": "code",
   "execution_count": 19,
   "metadata": {},
   "outputs": [],
   "source": [
    "avg = data['Base_Price'].mean()"
   ]
  },
  {
   "cell_type": "code",
   "execution_count": 20,
   "metadata": {},
   "outputs": [],
   "source": [
    "## Replacing outlier values with avg\n",
    "data.loc[(data[\"Base_Price\"]<q), 'Base_Price'] = avg"
   ]
  },
  {
   "cell_type": "code",
   "execution_count": 21,
   "metadata": {},
   "outputs": [
    {
     "data": {
      "text/plain": [
       "count   104.00\n",
       "mean     15.34\n",
       "std       0.48\n",
       "min      14.01\n",
       "25%      15.03\n",
       "50%      15.33\n",
       "75%      15.64\n",
       "max      16.28\n",
       "Name: Base_Price, dtype: float64"
      ]
     },
     "execution_count": 21,
     "metadata": {},
     "output_type": "execute_result"
    }
   ],
   "source": [
    "data['Base_Price'].describe()"
   ]
  },
  {
   "cell_type": "code",
   "execution_count": 22,
   "metadata": {},
   "outputs": [
    {
     "data": {
      "text/plain": [
       "count     104.00\n",
       "mean    20171.07\n",
       "std      1578.60\n",
       "min     17431.00\n",
       "25%     19048.75\n",
       "50%     19943.50\n",
       "75%     20942.75\n",
       "max     24944.00\n",
       "Name: NewVolSales, dtype: float64"
      ]
     },
     "execution_count": 22,
     "metadata": {},
     "output_type": "execute_result"
    }
   ],
   "source": [
    "data['NewVolSales'].describe()"
   ]
  },
  {
   "cell_type": "markdown",
   "metadata": {},
   "source": [
    "This feature could exhibit positive skewness"
   ]
  },
  {
   "cell_type": "code",
   "execution_count": 23,
   "metadata": {},
   "outputs": [
    {
     "data": {
      "text/plain": [
       "<AxesSubplot:ylabel='Frequency'>"
      ]
     },
     "execution_count": 23,
     "metadata": {},
     "output_type": "execute_result"
    },
    {
     "data": {
      "image/png": "[encoded data removed]",
      "text/plain": [
       "<Figure size 432x288 with 1 Axes>"
      ]
     },
     "metadata": {
      "needs_background": "light"
     },
     "output_type": "display_data"
    }
   ],
   "source": [
    "data.NewVolSales.plot(kind='hist')"
   ]
  },
  {
   "cell_type": "markdown",
   "metadata": {},
   "source": [
    "We see a long right-tail which indicates a positive skewness."
   ]
  },
  {
   "cell_type": "code",
   "execution_count": 24,
   "metadata": {},
   "outputs": [
    {
     "data": {
      "text/plain": [
       "count   100.00\n",
       "mean    256.69\n",
       "std      86.99\n",
       "min       0.00\n",
       "25%     235.00\n",
       "50%     278.50\n",
       "75%     313.25\n",
       "max     399.00\n",
       "Name: Radio, dtype: float64"
      ]
     },
     "execution_count": 24,
     "metadata": {},
     "output_type": "execute_result"
    }
   ],
   "source": [
    "data['Radio'].describe()"
   ]
  },
  {
   "cell_type": "markdown",
   "metadata": {},
   "source": [
    "Distribution looks more or less fine but  there're only 100 observations, i.e., 4 missing values"
   ]
  },
  {
   "cell_type": "markdown",
   "metadata": {},
   "source": [
    "###### Missing Value Treatment\n",
    "\n",
    "- Detecting and handling missing values in the correct way is important as they can impact the results of the analysis, and there are ML algorithms that can’t handle them\n",
    "- Common encodings for missing values are n/a, NA,  -99, -999, ?, the empty string, or any other placeholder\n",
    "- When you open a new dataset, without instructions, you need to recognize if any such placeholders have been used to represent missing values"
   ]
  },
  {
   "cell_type": "code",
   "execution_count": 25,
   "metadata": {},
   "outputs": [
    {
     "data": {
      "text/plain": [
       "4"
      ]
     },
     "execution_count": 25,
     "metadata": {},
     "output_type": "execute_result"
    }
   ],
   "source": [
    "## Checking for number of missing values\n",
    "data['Radio'].isnull().sum()"
   ]
  },
  {
   "cell_type": "code",
   "execution_count": 26,
   "metadata": {},
   "outputs": [],
   "source": [
    "# Replace Missing values \n",
    "data['Radio'] = data['Radio'].fillna(data['Radio'].mean())"
   ]
  },
  {
   "cell_type": "code",
   "execution_count": 27,
   "metadata": {},
   "outputs": [
    {
     "data": {
      "text/plain": [
       "count   104.00\n",
       "mean    256.69\n",
       "std      85.29\n",
       "min       0.00\n",
       "25%     235.75\n",
       "50%     276.00\n",
       "75%     312.25\n",
       "max     399.00\n",
       "Name: Radio, dtype: float64"
      ]
     },
     "execution_count": 27,
     "metadata": {},
     "output_type": "execute_result"
    }
   ],
   "source": [
    "data['Radio'].describe()"
   ]
  },
  {
   "cell_type": "code",
   "execution_count": 28,
   "metadata": {},
   "outputs": [
    {
     "data": {
      "text/plain": [
       "NaN                 90\n",
       "Website_Campaign     6\n",
       "Twitter              4\n",
       "Facebook             4\n",
       "Name: Website_Campaign, dtype: int64"
      ]
     },
     "execution_count": 28,
     "metadata": {},
     "output_type": "execute_result"
    }
   ],
   "source": [
    "data['Website_Campaign'].value_counts(dropna = False)"
   ]
  },
  {
   "cell_type": "markdown",
   "metadata": {},
   "source": [
    "90% of the data is missing due to some reasons unknown to us; will leave them as it is since it's a huge chunk of data and we cannot impute missing values with the conventional methods"
   ]
  },
  {
   "cell_type": "code",
   "execution_count": 29,
   "metadata": {},
   "outputs": [
    {
     "data": {
      "text/plain": [
       "Index(['NewVolSales', 'Base_Price', 'Radio', 'InStore', 'NewspaperInserts',\n",
       "       'Discount', 'TV', 'Stout', 'Website_Campaign'],\n",
       "      dtype='object')"
      ]
     },
     "execution_count": 29,
     "metadata": {},
     "output_type": "execute_result"
    }
   ],
   "source": [
    "data.columns"
   ]
  },
  {
   "cell_type": "markdown",
   "metadata": {},
   "source": [
    "##### EDA/Visualization\n",
    "\n",
    "Exploratory results give us an idea about what to expect from the model and also supplement the model findings\n",
    "\n",
    "###### Scatter plot\n",
    "- A scatter plot is a chart type that is normally used to observe and visually display the relationship between variables where the values of the variables are represented by dots. \n",
    "- The positioning of the dots on the vertical and horizontal axis will inform the value of the respective data point; hence, scatter plots make use of Cartesian coordinates to display the values of the variables in a data set."
   ]
  },
  {
   "cell_type": "code",
   "execution_count": 30,
   "metadata": {},
   "outputs": [
    {
     "data": {
      "text/plain": [
       "<AxesSubplot:xlabel='NewVolSales', ylabel='Base_Price'>"
      ]
     },
     "execution_count": 30,
     "metadata": {},
     "output_type": "execute_result"
    },
    {
     "data": {
      "image/png": "[encoded data removed]",
      "text/plain": [
       "<Figure size 432x288 with 1 Axes>"
      ]
     },
     "metadata": {
      "needs_background": "light"
     },
     "output_type": "display_data"
    }
   ],
   "source": [
    "# Base Price\n",
    "data.plot(x=\"NewVolSales\",y=\"Base_Price\",kind=\"scatter\")"
   ]
  },
  {
   "cell_type": "markdown",
   "metadata": {},
   "source": [
    "A negative relationship between the two is observed, which is also quite intuitive. As baseprices goes up, sales will decline and vice-versa."
   ]
  },
  {
   "cell_type": "code",
   "execution_count": 31,
   "metadata": {},
   "outputs": [
    {
     "data": {
      "text/plain": [
       "<AxesSubplot:xlabel='NewVolSales', ylabel='Radio'>"
      ]
     },
     "execution_count": 31,
     "metadata": {},
     "output_type": "execute_result"
    },
    {
     "data": {
      "image/png": "[encoded data removed]",
      "text/plain": [
       "<Figure size 432x288 with 1 Axes>"
      ]
     },
     "metadata": {
      "needs_background": "light"
     },
     "output_type": "display_data"
    }
   ],
   "source": [
    "#Radio\n",
    "data.plot(x=\"NewVolSales\",y=\"Radio\",kind=\"scatter\")"
   ]
  },
  {
   "cell_type": "markdown",
   "metadata": {},
   "source": [
    "No clear pattern observed – which means radio may not have a significant impact on sales"
   ]
  },
  {
   "cell_type": "markdown",
   "metadata": {},
   "source": [
    "###### Correlation\n",
    "\n",
    "- Correlation is a statistical measure that expresses the extent to which two variables are linearly related (meaning they change together at a constant rate). \n",
    "- It’s a common tool for describing simple relationships without making a statement about cause and effect."
   ]
  },
  {
   "cell_type": "code",
   "execution_count": 32,
   "metadata": {},
   "outputs": [
    {
     "data": {
      "text/html": [
       "<div>\n",
       "<style scoped>\n",
       "    .dataframe tbody tr th:only-of-type {\n",
       "        vertical-align: middle;\n",
       "    }\n",
       "\n",
       "    .dataframe tbody tr th {\n",
       "        vertical-align: top;\n",
       "    }\n",
       "\n",
       "    .dataframe thead th {\n",
       "        text-align: right;\n",
       "    }\n",
       "</style>\n",
       "<table border=\"1\" class=\"dataframe\">\n",
       "  <thead>\n",
       "    <tr style=\"text-align: right;\">\n",
       "      <th></th>\n",
       "      <th>NewVolSales</th>\n",
       "      <th>Base_Price</th>\n",
       "      <th>Radio</th>\n",
       "      <th>InStore</th>\n",
       "      <th>Discount</th>\n",
       "      <th>TV</th>\n",
       "      <th>Stout</th>\n",
       "    </tr>\n",
       "  </thead>\n",
       "  <tbody>\n",
       "    <tr>\n",
       "      <th>NewVolSales</th>\n",
       "      <td>1.00</td>\n",
       "      <td>-0.68</td>\n",
       "      <td>0.05</td>\n",
       "      <td>0.44</td>\n",
       "      <td>0.42</td>\n",
       "      <td>0.15</td>\n",
       "      <td>-0.38</td>\n",
       "    </tr>\n",
       "    <tr>\n",
       "      <th>Base_Price</th>\n",
       "      <td>-0.68</td>\n",
       "      <td>1.00</td>\n",
       "      <td>-0.00</td>\n",
       "      <td>-0.24</td>\n",
       "      <td>-0.20</td>\n",
       "      <td>0.07</td>\n",
       "      <td>0.02</td>\n",
       "    </tr>\n",
       "    <tr>\n",
       "      <th>Radio</th>\n",
       "      <td>0.05</td>\n",
       "      <td>-0.00</td>\n",
       "      <td>1.00</td>\n",
       "      <td>-0.02</td>\n",
       "      <td>0.11</td>\n",
       "      <td>-0.06</td>\n",
       "      <td>-0.19</td>\n",
       "    </tr>\n",
       "    <tr>\n",
       "      <th>InStore</th>\n",
       "      <td>0.44</td>\n",
       "      <td>-0.24</td>\n",
       "      <td>-0.02</td>\n",
       "      <td>1.00</td>\n",
       "      <td>0.72</td>\n",
       "      <td>-0.02</td>\n",
       "      <td>0.03</td>\n",
       "    </tr>\n",
       "    <tr>\n",
       "      <th>Discount</th>\n",
       "      <td>0.42</td>\n",
       "      <td>-0.20</td>\n",
       "      <td>0.11</td>\n",
       "      <td>0.72</td>\n",
       "      <td>1.00</td>\n",
       "      <td>0.12</td>\n",
       "      <td>-0.03</td>\n",
       "    </tr>\n",
       "    <tr>\n",
       "      <th>TV</th>\n",
       "      <td>0.15</td>\n",
       "      <td>0.07</td>\n",
       "      <td>-0.06</td>\n",
       "      <td>-0.02</td>\n",
       "      <td>0.12</td>\n",
       "      <td>1.00</td>\n",
       "      <td>-0.13</td>\n",
       "    </tr>\n",
       "    <tr>\n",
       "      <th>Stout</th>\n",
       "      <td>-0.38</td>\n",
       "      <td>0.02</td>\n",
       "      <td>-0.19</td>\n",
       "      <td>0.03</td>\n",
       "      <td>-0.03</td>\n",
       "      <td>-0.13</td>\n",
       "      <td>1.00</td>\n",
       "    </tr>\n",
       "  </tbody>\n",
       "</table>\n",
       "</div>"
      ],
      "text/plain": [
       "             NewVolSales  Base_Price  Radio  InStore  Discount    TV  Stout\n",
       "NewVolSales         1.00       -0.68   0.05     0.44      0.42  0.15  -0.38\n",
       "Base_Price         -0.68        1.00  -0.00    -0.24     -0.20  0.07   0.02\n",
       "Radio               0.05       -0.00   1.00    -0.02      0.11 -0.06  -0.19\n",
       "InStore             0.44       -0.24  -0.02     1.00      0.72 -0.02   0.03\n",
       "Discount            0.42       -0.20   0.11     0.72      1.00  0.12  -0.03\n",
       "TV                  0.15        0.07  -0.06    -0.02      0.12  1.00  -0.13\n",
       "Stout              -0.38        0.02  -0.19     0.03     -0.03 -0.13   1.00"
      ]
     },
     "execution_count": 32,
     "metadata": {},
     "output_type": "execute_result"
    }
   ],
   "source": [
    "## Correlation matrix of numerical features\n",
    "pd.options.display.float_format = '{:.2f}'.format\n",
    "data.corr()"
   ]
  },
  {
   "cell_type": "markdown",
   "metadata": {},
   "source": [
    "Strong correlation between instore and discount, which is intuitive bc both are activities within the store"
   ]
  },
  {
   "cell_type": "code",
   "execution_count": 33,
   "metadata": {},
   "outputs": [
    {
     "data": {
      "image/png": "[encoded data removed]",
      "text/plain": [
       "<Figure size 720x576 with 2 Axes>"
      ]
     },
     "metadata": {
      "needs_background": "light"
     },
     "output_type": "display_data"
    }
   ],
   "source": [
    "## Visualization of correlation matrix\n",
    "import seaborn as sns\n",
    "corr = data.corr()\n",
    "plt.figure(figsize=(10,8))\n",
    "sns.heatmap(corr, xticklabels=corr.columns.values, yticklabels=corr.columns.values, annot=True)\n",
    "plt.show()"
   ]
  },
  {
   "cell_type": "markdown",
   "metadata": {},
   "source": [
    "Colourmap indicates the strength of correlation. "
   ]
  },
  {
   "cell_type": "markdown",
   "metadata": {},
   "source": [
    "##### Dummy Encoding\n",
    "\n",
    "- Conversion of categorical variable(s) into dummy/indicator variables\n",
    "- For each unique value in a column, a new column is created; the values in this column are represented as 1s and 0s, depending on whether the value matches the column header\n",
    "- When extracting features from a dataset, it is often useful to transform categorical features into vectors so that you can do vector operations on them; hence, we make use of get_dummies method in pandas"
   ]
  },
  {
   "cell_type": "code",
   "execution_count": 34,
   "metadata": {},
   "outputs": [],
   "source": [
    "data = pd.get_dummies(data, columns=['NewspaperInserts'])"
   ]
  },
  {
   "cell_type": "code",
   "execution_count": 35,
   "metadata": {},
   "outputs": [],
   "source": [
    "data = pd.get_dummies(data, columns=['Website_Campaign'])"
   ]
  },
  {
   "cell_type": "code",
   "execution_count": 36,
   "metadata": {},
   "outputs": [
    {
     "data": {
      "text/html": [
       "<div>\n",
       "<style scoped>\n",
       "    .dataframe tbody tr th:only-of-type {\n",
       "        vertical-align: middle;\n",
       "    }\n",
       "\n",
       "    .dataframe tbody tr th {\n",
       "        vertical-align: top;\n",
       "    }\n",
       "\n",
       "    .dataframe thead th {\n",
       "        text-align: right;\n",
       "    }\n",
       "</style>\n",
       "<table border=\"1\" class=\"dataframe\">\n",
       "  <thead>\n",
       "    <tr style=\"text-align: right;\">\n",
       "      <th></th>\n",
       "      <th>NewVolSales</th>\n",
       "      <th>Base_Price</th>\n",
       "      <th>Radio</th>\n",
       "      <th>InStore</th>\n",
       "      <th>Discount</th>\n",
       "      <th>TV</th>\n",
       "      <th>Stout</th>\n",
       "      <th>NewspaperInserts_Insert</th>\n",
       "      <th>Website_Campaign_Facebook</th>\n",
       "      <th>Website_Campaign_Twitter</th>\n",
       "      <th>Website_Campaign_Website_Campaign</th>\n",
       "    </tr>\n",
       "  </thead>\n",
       "  <tbody>\n",
       "    <tr>\n",
       "      <th>0</th>\n",
       "      <td>19564</td>\n",
       "      <td>15.03</td>\n",
       "      <td>245.00</td>\n",
       "      <td>15.45</td>\n",
       "      <td>0.00</td>\n",
       "      <td>101.78</td>\n",
       "      <td>2.28</td>\n",
       "      <td>0</td>\n",
       "      <td>0</td>\n",
       "      <td>0</td>\n",
       "      <td>0</td>\n",
       "    </tr>\n",
       "    <tr>\n",
       "      <th>1</th>\n",
       "      <td>19387</td>\n",
       "      <td>15.03</td>\n",
       "      <td>314.00</td>\n",
       "      <td>16.39</td>\n",
       "      <td>0.00</td>\n",
       "      <td>76.73</td>\n",
       "      <td>2.22</td>\n",
       "      <td>0</td>\n",
       "      <td>0</td>\n",
       "      <td>0</td>\n",
       "      <td>0</td>\n",
       "    </tr>\n",
       "    <tr>\n",
       "      <th>2</th>\n",
       "      <td>23889</td>\n",
       "      <td>14.59</td>\n",
       "      <td>324.00</td>\n",
       "      <td>62.69</td>\n",
       "      <td>0.05</td>\n",
       "      <td>131.59</td>\n",
       "      <td>2.01</td>\n",
       "      <td>0</td>\n",
       "      <td>0</td>\n",
       "      <td>0</td>\n",
       "      <td>0</td>\n",
       "    </tr>\n",
       "    <tr>\n",
       "      <th>3</th>\n",
       "      <td>20055</td>\n",
       "      <td>15.33</td>\n",
       "      <td>298.00</td>\n",
       "      <td>16.57</td>\n",
       "      <td>0.00</td>\n",
       "      <td>119.63</td>\n",
       "      <td>2.20</td>\n",
       "      <td>0</td>\n",
       "      <td>0</td>\n",
       "      <td>0</td>\n",
       "      <td>0</td>\n",
       "    </tr>\n",
       "    <tr>\n",
       "      <th>4</th>\n",
       "      <td>20064</td>\n",
       "      <td>15.64</td>\n",
       "      <td>279.00</td>\n",
       "      <td>41.50</td>\n",
       "      <td>0.04</td>\n",
       "      <td>103.44</td>\n",
       "      <td>1.82</td>\n",
       "      <td>0</td>\n",
       "      <td>0</td>\n",
       "      <td>0</td>\n",
       "      <td>0</td>\n",
       "    </tr>\n",
       "  </tbody>\n",
       "</table>\n",
       "</div>"
      ],
      "text/plain": [
       "   NewVolSales  Base_Price  Radio  InStore  Discount     TV  Stout  \\\n",
       "0        19564       15.03 245.00    15.45      0.00 101.78   2.28   \n",
       "1        19387       15.03 314.00    16.39      0.00  76.73   2.22   \n",
       "2        23889       14.59 324.00    62.69      0.05 131.59   2.01   \n",
       "3        20055       15.33 298.00    16.57      0.00 119.63   2.20   \n",
       "4        20064       15.64 279.00    41.50      0.04 103.44   1.82   \n",
       "\n",
       "   NewspaperInserts_Insert  Website_Campaign_Facebook  \\\n",
       "0                        0                          0   \n",
       "1                        0                          0   \n",
       "2                        0                          0   \n",
       "3                        0                          0   \n",
       "4                        0                          0   \n",
       "\n",
       "   Website_Campaign_Twitter  Website_Campaign_Website_Campaign  \n",
       "0                         0                                  0  \n",
       "1                         0                                  0  \n",
       "2                         0                                  0  \n",
       "3                         0                                  0  \n",
       "4                         0                                  0  "
      ]
     },
     "execution_count": 36,
     "metadata": {},
     "output_type": "execute_result"
    }
   ],
   "source": [
    "data.head()"
   ]
  },
  {
   "cell_type": "code",
   "execution_count": 37,
   "metadata": {},
   "outputs": [
    {
     "data": {
      "text/plain": [
       "Index(['NewVolSales', 'Base_Price', 'Radio', 'InStore', 'Discount', 'TV',\n",
       "       'Stout', 'NewspaperInserts_Insert', 'Website_Campaign_Facebook',\n",
       "       'Website_Campaign_Twitter', 'Website_Campaign_Website_Campaign'],\n",
       "      dtype='object')"
      ]
     },
     "execution_count": 37,
     "metadata": {},
     "output_type": "execute_result"
    }
   ],
   "source": [
    "data.columns"
   ]
  },
  {
   "cell_type": "code",
   "execution_count": 38,
   "metadata": {},
   "outputs": [
    {
     "name": "stdout",
     "output_type": "stream",
     "text": [
      "<class 'pandas.core.frame.DataFrame'>\n",
      "RangeIndex: 104 entries, 0 to 103\n",
      "Data columns (total 11 columns):\n",
      " #   Column                             Non-Null Count  Dtype  \n",
      "---  ------                             --------------  -----  \n",
      " 0   NewVolSales                        104 non-null    int64  \n",
      " 1   Base_Price                         104 non-null    float64\n",
      " 2   Radio                              104 non-null    float64\n",
      " 3   InStore                            104 non-null    float64\n",
      " 4   Discount                           104 non-null    float64\n",
      " 5   TV                                 104 non-null    float64\n",
      " 6   Stout                              104 non-null    float64\n",
      " 7   NewspaperInserts_Insert            104 non-null    uint8  \n",
      " 8   Website_Campaign_Facebook          104 non-null    uint8  \n",
      " 9   Website_Campaign_Twitter           104 non-null    uint8  \n",
      " 10  Website_Campaign_Website_Campaign  104 non-null    uint8  \n",
      "dtypes: float64(6), int64(1), uint8(4)\n",
      "memory usage: 6.2 KB\n"
     ]
    }
   ],
   "source": [
    "data.info()"
   ]
  },
  {
   "cell_type": "code",
   "execution_count": 39,
   "metadata": {},
   "outputs": [],
   "source": [
    "## Segregating predictor and target variables\n",
    "x = data.drop(['NewVolSales'], axis=1)\n",
    "y = data['NewVolSales']"
   ]
  },
  {
   "cell_type": "code",
   "execution_count": 40,
   "metadata": {},
   "outputs": [],
   "source": [
    "## Split the data into test and train\n",
    "\n",
    "from sklearn.model_selection import train_test_split\n",
    "xtrain, xtest, ytrain, ytest = train_test_split(x, y, test_size=0.2, random_state=156)"
   ]
  },
  {
   "cell_type": "markdown",
   "metadata": {},
   "source": [
    "### Building Linear Regression Model\n",
    "\n",
    "`statsmodels` is a Python module that provides classes and functions for the estimation of many different statistical models, as well as for conducting statistical tests, and statistical data exploration. \n",
    "An extensive list of result statistics are available for each estimator. The results are tested against existing statistical packages to ensure that they are correct. "
   ]
  },
  {
   "cell_type": "code",
   "execution_count": 41,
   "metadata": {},
   "outputs": [],
   "source": [
    "import statsmodels.api as sm\n",
    "\n",
    "## Adding constant term as we are using statsmodel\n",
    "## By default, statsmodels fits a line passing through the origin, i.e. it doesn't fit an intercept \n",
    "## Hence, you need to use the command 'add_constant' so that it also fits an intercept\n",
    "\n",
    "xtrain1 = sm.add_constant(xtrain)\n",
    "xtest1 = sm.add_constant(xtest)"
   ]
  },
  {
   "cell_type": "markdown",
   "metadata": {},
   "source": [
    "A regression without a constant means that the regression line goes through the origin wherein the dependent variable and the independent variable is equal to zero. Many times, the intercept makes no sense.\n",
    "\n",
    "For example, suppose we use the rain to predict the quantity of wheat produced. Practically, if there is no rain, there would be no production. So in this situation, the regression line crosses the y-axis somewhere else beside zero, and the intercept doesn’t make any sense. However, the intercept is important to calculate the predicted values especially in the industry like analytics and market research and it is advised not to cross it out completely from the analysis."
   ]
  },
  {
   "cell_type": "code",
   "execution_count": 42,
   "metadata": {},
   "outputs": [],
   "source": [
    "## Instantiating the model object\n",
    "model1 = sm.OLS(ytrain,xtrain1)"
   ]
  },
  {
   "cell_type": "code",
   "execution_count": 43,
   "metadata": {},
   "outputs": [],
   "source": [
    "## Fitting the model\n",
    "results1 = model1.fit()"
   ]
  },
  {
   "cell_type": "code",
   "execution_count": 44,
   "metadata": {},
   "outputs": [
    {
     "name": "stdout",
     "output_type": "stream",
     "text": [
      "                            OLS Regression Results                            \n",
      "==============================================================================\n",
      "Dep. Variable:            NewVolSales   R-squared:                       0.748\n",
      "Model:                            OLS   Adj. R-squared:                  0.712\n",
      "Method:                 Least Squares   F-statistic:                     21.32\n",
      "Date:                Fri, 22 Oct 2021   Prob (F-statistic):           8.96e-18\n",
      "Time:                        00:45:14   Log-Likelihood:                -674.64\n",
      "No. Observations:                  83   AIC:                             1371.\n",
      "Df Residuals:                      72   BIC:                             1398.\n",
      "Df Model:                          10                                         \n",
      "Covariance Type:            nonrobust                                         \n",
      "=====================================================================================================\n",
      "                                        coef    std err          t      P>|t|      [0.025      0.975]\n",
      "-----------------------------------------------------------------------------------------------------\n",
      "const                               5.45e+04   3432.903     15.876      0.000    4.77e+04    6.13e+04\n",
      "Base_Price                        -2078.3686    217.342     -9.563      0.000   -2511.631   -1645.106\n",
      "Radio                                -0.8806      1.097     -0.803      0.425      -3.068       1.307\n",
      "InStore                              28.0927     10.671      2.633      0.010       6.820      49.366\n",
      "Discount                           7092.1099   5397.855      1.314      0.193   -3668.317    1.79e+04\n",
      "TV                                    2.7735      2.460      1.127      0.263      -2.131       7.678\n",
      "Stout                             -1421.1193    328.703     -4.323      0.000   -2076.376    -765.863\n",
      "NewspaperInserts_Insert              20.9243    380.986      0.055      0.956    -738.557     780.406\n",
      "Website_Campaign_Facebook           211.9893    480.796      0.441      0.661    -746.460    1170.439\n",
      "Website_Campaign_Twitter            473.6801    538.894      0.879      0.382    -600.585    1547.945\n",
      "Website_Campaign_Website_Campaign -1447.2153    449.229     -3.222      0.002   -2342.737    -551.694\n",
      "==============================================================================\n",
      "Omnibus:                       41.028   Durbin-Watson:                   2.135\n",
      "Prob(Omnibus):                  0.000   Jarque-Bera (JB):              144.097\n",
      "Skew:                           1.533   Prob(JB):                     5.13e-32\n",
      "Kurtosis:                       8.680   Cond. No.                     1.71e+04\n",
      "==============================================================================\n",
      "\n",
      "Notes:\n",
      "[1] Standard Errors assume that the covariance matrix of the errors is correctly specified.\n",
      "[2] The condition number is large, 1.71e+04. This might indicate that there are\n",
      "strong multicollinearity or other numerical problems.\n"
     ]
    }
   ],
   "source": [
    "print(results1.summary())"
   ]
  },
  {
   "cell_type": "markdown",
   "metadata": {},
   "source": [
    "Let's take a glance at the different terms and measures charted out in the summary table.\n",
    "\n",
    "\n",
    "- R-squared: Measures the proportion of variation in the dependent variable explained by the independent variable(s); sometimes addition of predictor variables increase the value of R-square, hence it becomes difficult to decide whether additional variables are adding to the predictability power of the regression.\n",
    "\n",
    "- Adjusted R-squared: Modified version of R-squared which is adjusted for the number of variables in the regression; increases only when an additional variable adds to the explanatory power to the regression.\n",
    "\n",
    "- AIC: Stands for Akaike’s Information Criteria and is used for model selection; penalizes the errors made in case a new variable is added to the regression equation; calculated as number of parameters minus the likelihood of the overall model; lower the AIC, better the model.\n",
    "\n",
    "- BIC: Stands for Bayesian information criteria; a variant of AIC where penalties are made more severe.\n",
    "\n",
    "- Prob(F-Statistic): Tells the overall significance of the regression; assess the significance level of all the variables together; the null hypothesis under this is “all the regression coefficients are equal to zero”; depicts the probability of null hypothesis being true.\n",
    "\n",
    "- Prob(Omnibus): Omnibus test is performed in order to test the null hypothesis of OLS that the errors are normally distributed; Prob(Omnibus) is supposed to be close to the 1 in order for it to satisfy the OLS assumption \n",
    "\n",
    "- Durbin-Watson: Measures the autocorrelation; Durbin-Watson statistic close to 2 implies absence of correlation.\n",
    "\n",
    "- Prob(Jarque-Bera): Also performed for the distribution analysis of the regression errors; supposed to agree with the results of Omnibus test; a large value of JB test indicates that the errors are not normally distributed.\n",
    "\n",
    "- Kurtosis: A statistical measure that defines how heavily the tails of a distribution differ from the tails of a normal distribution; determines the heaviness of the distribution tails; positive value indicates heavy-tails (i.e. a lot of data in the tails) while negative value means light-tails (i.e. little data in the tails).\n",
    "\n",
    "- p-value: A measure of the probability that an observed difference could have occurred just by random chance; lower the p-value, greater the statistical significance of the observed difference; can be used as an alternative to or in addition to pre-selected confidence levels for hypothesis testing."
   ]
  },
  {
   "cell_type": "markdown",
   "metadata": {},
   "source": [
    "###### Interpretation\n",
    "\n",
    "The Adj R2 is 71% - given the limited data we have, the value is pretty good. \n",
    "\n",
    "In this first run – newsppaper_insert, website_campaign_facebook, radio are statistically insigficant due to their large p-values. "
   ]
  },
  {
   "cell_type": "markdown",
   "metadata": {},
   "source": [
    "##### Backward Elimination\n",
    "\n",
    "- A feature selection technique while building a machine learning model; used to remove those features that do not have a significant effect on the dependent variable or prediction of output\n",
    "\n",
    "Following are the steps involved:\n",
    "1. Select a threshold p-value (usually 0.05 or 5%)\n",
    "2. Fit the complete model with all possible predictors/independent variables\n",
    "3. Identify the predictor with the highest p-value\n",
    "4. If the highest p-value is greater than the threshold, remove that particular predictor & fit the model with the remaining\n",
    "5. Repeat steps 3-4 until all those predictors whose p-value > threshold is removed"
   ]
  },
  {
   "cell_type": "code",
   "execution_count": 45,
   "metadata": {},
   "outputs": [],
   "source": [
    "## Remove factors with high p-value\n",
    "xtrain2 = xtrain1.drop('NewspaperInserts_Insert', axis=1)\n",
    "xtest2 = xtest1.drop('NewspaperInserts_Insert', axis=1)"
   ]
  },
  {
   "cell_type": "code",
   "execution_count": 46,
   "metadata": {},
   "outputs": [
    {
     "name": "stdout",
     "output_type": "stream",
     "text": [
      "                            OLS Regression Results                            \n",
      "==============================================================================\n",
      "Dep. Variable:            NewVolSales   R-squared:                       0.747\n",
      "Model:                            OLS   Adj. R-squared:                  0.716\n",
      "Method:                 Least Squares   F-statistic:                     24.01\n",
      "Date:                Fri, 22 Oct 2021   Prob (F-statistic):           1.77e-18\n",
      "Time:                        00:46:02   Log-Likelihood:                -674.64\n",
      "No. Observations:                  83   AIC:                             1369.\n",
      "Df Residuals:                      73   BIC:                             1393.\n",
      "Df Model:                           9                                         \n",
      "Covariance Type:            nonrobust                                         \n",
      "=====================================================================================================\n",
      "                                        coef    std err          t      P>|t|      [0.025      0.975]\n",
      "-----------------------------------------------------------------------------------------------------\n",
      "const                              5.449e+04   3404.863     16.004      0.000    4.77e+04    6.13e+04\n",
      "Base_Price                        -2077.5056    215.288     -9.650      0.000   -2506.573   -1648.438\n",
      "Radio                                -0.8850      1.087     -0.814      0.418      -3.051       1.281\n",
      "InStore                              28.0293     10.536      2.660      0.010       7.031      49.028\n",
      "Discount                           7116.0298   5343.390      1.332      0.187   -3533.330    1.78e+04\n",
      "TV                                    2.7642      2.438      1.134      0.261      -2.094       7.623\n",
      "Stout                             -1420.2414    326.064     -4.356      0.000   -2070.086    -770.397\n",
      "Website_Campaign_Facebook           209.9130    476.023      0.441      0.661    -738.799    1158.625\n",
      "Website_Campaign_Twitter            472.7206    534.920      0.884      0.380    -593.373    1538.814\n",
      "Website_Campaign_Website_Campaign -1449.1937    444.714     -3.259      0.002   -2335.508    -562.880\n",
      "==============================================================================\n",
      "Omnibus:                       40.914   Durbin-Watson:                   2.134\n",
      "Prob(Omnibus):                  0.000   Jarque-Bera (JB):              143.305\n",
      "Skew:                           1.530   Prob(JB):                     7.62e-32\n",
      "Kurtosis:                       8.664   Cond. No.                     1.71e+04\n",
      "==============================================================================\n",
      "\n",
      "Notes:\n",
      "[1] Standard Errors assume that the covariance matrix of the errors is correctly specified.\n",
      "[2] The condition number is large, 1.71e+04. This might indicate that there are\n",
      "strong multicollinearity or other numerical problems.\n"
     ]
    }
   ],
   "source": [
    "## Fitting model post dropping features with high p-value\n",
    "model2 = sm.OLS(ytrain,xtrain2)\n",
    "results2 = model2.fit()\n",
    "print(results2.summary())"
   ]
  },
  {
   "cell_type": "markdown",
   "metadata": {},
   "source": [
    "Adjusted R-squared has improved slightly now"
   ]
  },
  {
   "cell_type": "code",
   "execution_count": 47,
   "metadata": {},
   "outputs": [],
   "source": [
    "## Remove factors with high p-value\n",
    "xtrain3 = xtrain2.drop('Website_Campaign_Facebook', axis=1)\n",
    "xtest3 = xtest2.drop('Website_Campaign_Facebook', axis=1)"
   ]
  },
  {
   "cell_type": "code",
   "execution_count": 48,
   "metadata": {},
   "outputs": [
    {
     "name": "stdout",
     "output_type": "stream",
     "text": [
      "                            OLS Regression Results                            \n",
      "==============================================================================\n",
      "Dep. Variable:            NewVolSales   R-squared:                       0.747\n",
      "Model:                            OLS   Adj. R-squared:                  0.719\n",
      "Method:                 Least Squares   F-statistic:                     27.29\n",
      "Date:                Fri, 22 Oct 2021   Prob (F-statistic):           3.57e-19\n",
      "Time:                        00:46:09   Log-Likelihood:                -674.75\n",
      "No. Observations:                  83   AIC:                             1368.\n",
      "Df Residuals:                      74   BIC:                             1389.\n",
      "Df Model:                           8                                         \n",
      "Covariance Type:            nonrobust                                         \n",
      "=====================================================================================================\n",
      "                                        coef    std err          t      P>|t|      [0.025      0.975]\n",
      "-----------------------------------------------------------------------------------------------------\n",
      "const                              5.416e+04   3302.408     16.400      0.000    4.76e+04    6.07e+04\n",
      "Base_Price                        -2054.0884    207.497     -9.899      0.000   -2467.535   -1640.642\n",
      "Radio                                -0.8327      1.075     -0.775      0.441      -2.974       1.308\n",
      "InStore                              27.5680     10.427      2.644      0.010       6.792      48.344\n",
      "Discount                           7229.5770   5308.053      1.362      0.177   -3346.949    1.78e+04\n",
      "TV                                    2.8891      2.408      1.200      0.234      -1.909       7.687\n",
      "Stout                             -1434.2506    322.742     -4.444      0.000   -2077.327    -791.174\n",
      "Website_Campaign_Twitter            461.0248    531.346      0.868      0.388    -597.705    1519.755\n",
      "Website_Campaign_Website_Campaign -1441.9105    441.982     -3.262      0.002   -2322.579    -561.243\n",
      "==============================================================================\n",
      "Omnibus:                       41.265   Durbin-Watson:                   2.151\n",
      "Prob(Omnibus):                  0.000   Jarque-Bera (JB):              143.439\n",
      "Skew:                           1.550   Prob(JB):                     7.12e-32\n",
      "Kurtosis:                       8.645   Cond. No.                     1.70e+04\n",
      "==============================================================================\n",
      "\n",
      "Notes:\n",
      "[1] Standard Errors assume that the covariance matrix of the errors is correctly specified.\n",
      "[2] The condition number is large, 1.7e+04. This might indicate that there are\n",
      "strong multicollinearity or other numerical problems.\n"
     ]
    }
   ],
   "source": [
    "model3 = sm.OLS(ytrain,xtrain3)\n",
    "results3 = model3.fit()\n",
    "print(results3.summary())"
   ]
  },
  {
   "cell_type": "code",
   "execution_count": 49,
   "metadata": {},
   "outputs": [],
   "source": [
    "## Remove factors with high p-value\n",
    "xtrain4 = xtrain3.drop('Radio', axis=1)\n",
    "xtest4 = xtest3.drop('Radio', axis=1)"
   ]
  },
  {
   "cell_type": "code",
   "execution_count": 50,
   "metadata": {},
   "outputs": [
    {
     "name": "stdout",
     "output_type": "stream",
     "text": [
      "                            OLS Regression Results                            \n",
      "==============================================================================\n",
      "Dep. Variable:            NewVolSales   R-squared:                       0.745\n",
      "Model:                            OLS   Adj. R-squared:                  0.721\n",
      "Method:                 Least Squares   F-statistic:                     31.26\n",
      "Date:                Fri, 22 Oct 2021   Prob (F-statistic):           8.18e-20\n",
      "Time:                        00:46:16   Log-Likelihood:                -675.09\n",
      "No. Observations:                  83   AIC:                             1366.\n",
      "Df Residuals:                      75   BIC:                             1386.\n",
      "Df Model:                           7                                         \n",
      "Covariance Type:            nonrobust                                         \n",
      "=====================================================================================================\n",
      "                                        coef    std err          t      P>|t|      [0.025      0.975]\n",
      "-----------------------------------------------------------------------------------------------------\n",
      "const                              5.387e+04   3273.036     16.460      0.000    4.74e+04    6.04e+04\n",
      "Base_Price                        -2059.8583    206.810     -9.960      0.000   -2471.846   -1647.871\n",
      "InStore                              28.7221     10.292      2.791      0.007       8.219      49.226\n",
      "Discount                           6443.5021   5196.353      1.240      0.219   -3908.164    1.68e+04\n",
      "TV                                    3.2440      2.358      1.376      0.173      -1.453       7.941\n",
      "Stout                             -1398.7203    318.617     -4.390      0.000   -2033.438    -764.003\n",
      "Website_Campaign_Twitter            406.0235    525.181      0.773      0.442    -640.191    1452.239\n",
      "Website_Campaign_Website_Campaign -1426.3202    440.347     -3.239      0.002   -2303.536    -549.105\n",
      "==============================================================================\n",
      "Omnibus:                       40.013   Durbin-Watson:                   2.145\n",
      "Prob(Omnibus):                  0.000   Jarque-Bera (JB):              139.519\n",
      "Skew:                           1.490   Prob(JB):                     5.06e-31\n",
      "Kurtosis:                       8.609   Cond. No.                     8.41e+03\n",
      "==============================================================================\n",
      "\n",
      "Notes:\n",
      "[1] Standard Errors assume that the covariance matrix of the errors is correctly specified.\n",
      "[2] The condition number is large, 8.41e+03. This might indicate that there are\n",
      "strong multicollinearity or other numerical problems.\n"
     ]
    }
   ],
   "source": [
    "model4 = sm.OLS(ytrain,xtrain4)\n",
    "results4 = model4.fit()\n",
    "print(results4.summary())"
   ]
  },
  {
   "cell_type": "code",
   "execution_count": 51,
   "metadata": {},
   "outputs": [],
   "source": [
    "## Remove factors with high p-value\n",
    "xtrain5 = xtrain4.drop('Website_Campaign_Twitter', axis=1)\n",
    "xtest5 = xtest4.drop('Website_Campaign_Twitter', axis=1)"
   ]
  },
  {
   "cell_type": "code",
   "execution_count": 52,
   "metadata": {},
   "outputs": [
    {
     "name": "stdout",
     "output_type": "stream",
     "text": [
      "                            OLS Regression Results                            \n",
      "==============================================================================\n",
      "Dep. Variable:            NewVolSales   R-squared:                       0.743\n",
      "Model:                            OLS   Adj. R-squared:                  0.722\n",
      "Method:                 Least Squares   F-statistic:                     36.57\n",
      "Date:                Fri, 22 Oct 2021   Prob (F-statistic):           1.72e-20\n",
      "Time:                        00:46:23   Log-Likelihood:                -675.42\n",
      "No. Observations:                  83   AIC:                             1365.\n",
      "Df Residuals:                      76   BIC:                             1382.\n",
      "Df Model:                           6                                         \n",
      "Covariance Type:            nonrobust                                         \n",
      "=====================================================================================================\n",
      "                                        coef    std err          t      P>|t|      [0.025      0.975]\n",
      "-----------------------------------------------------------------------------------------------------\n",
      "const                              5.414e+04   3245.602     16.682      0.000    4.77e+04    6.06e+04\n",
      "Base_Price                        -2080.9316    204.463    -10.178      0.000   -2488.155   -1673.709\n",
      "InStore                              28.8557     10.264      2.811      0.006       8.414      49.298\n",
      "Discount                           6181.7729   5171.571      1.195      0.236   -4118.304    1.65e+04\n",
      "TV                                    3.6026      2.306      1.563      0.122      -0.989       8.195\n",
      "Stout                             -1391.4216    317.633     -4.381      0.000   -2024.043    -758.800\n",
      "Website_Campaign_Website_Campaign -1443.0140    438.651     -3.290      0.002   -2316.664    -569.364\n",
      "==============================================================================\n",
      "Omnibus:                       38.246   Durbin-Watson:                   2.156\n",
      "Prob(Omnibus):                  0.000   Jarque-Bera (JB):              129.612\n",
      "Skew:                           1.424   Prob(JB):                     7.16e-29\n",
      "Kurtosis:                       8.419   Cond. No.                     8.39e+03\n",
      "==============================================================================\n",
      "\n",
      "Notes:\n",
      "[1] Standard Errors assume that the covariance matrix of the errors is correctly specified.\n",
      "[2] The condition number is large, 8.39e+03. This might indicate that there are\n",
      "strong multicollinearity or other numerical problems.\n"
     ]
    }
   ],
   "source": [
    "## Fitting the model on updated set of variables\n",
    "model5 = sm.OLS(ytrain,xtrain5)\n",
    "results5 = model5.fit()\n",
    "print(results5.summary())"
   ]
  },
  {
   "cell_type": "code",
   "execution_count": 53,
   "metadata": {},
   "outputs": [],
   "source": [
    "## Remove factors with high p-value\n",
    "xtrain6 = xtrain5.drop('Discount', axis=1)\n",
    "xtest6 = xtest5.drop('Discount', axis=1)"
   ]
  },
  {
   "cell_type": "code",
   "execution_count": 54,
   "metadata": {},
   "outputs": [
    {
     "name": "stdout",
     "output_type": "stream",
     "text": [
      "                            OLS Regression Results                            \n",
      "==============================================================================\n",
      "Dep. Variable:            NewVolSales   R-squared:                       0.738\n",
      "Model:                            OLS   Adj. R-squared:                  0.721\n",
      "Method:                 Least Squares   F-statistic:                     43.36\n",
      "Date:                Fri, 22 Oct 2021   Prob (F-statistic):           4.95e-21\n",
      "Time:                        00:46:27   Log-Likelihood:                -676.19\n",
      "No. Observations:                  83   AIC:                             1364.\n",
      "Df Residuals:                      77   BIC:                             1379.\n",
      "Df Model:                           5                                         \n",
      "Covariance Type:            nonrobust                                         \n",
      "=====================================================================================================\n",
      "                                        coef    std err          t      P>|t|      [0.025      0.975]\n",
      "-----------------------------------------------------------------------------------------------------\n",
      "const                              5.444e+04   3245.019     16.777      0.000     4.8e+04    6.09e+04\n",
      "Base_Price                        -2116.7983    202.812    -10.437      0.000   -2520.648   -1712.949\n",
      "InStore                              37.5619      7.252      5.180      0.000      23.122      52.002\n",
      "TV                                    4.0542      2.281      1.778      0.079      -0.487       8.596\n",
      "Stout                             -1374.7536    318.209     -4.320      0.000   -2008.389    -741.118\n",
      "Website_Campaign_Website_Campaign -1550.0820    430.603     -3.600      0.001   -2407.522    -692.642\n",
      "==============================================================================\n",
      "Omnibus:                       39.351   Durbin-Watson:                   2.161\n",
      "Prob(Omnibus):                  0.000   Jarque-Bera (JB):              150.718\n",
      "Skew:                           1.413   Prob(JB):                     1.87e-33\n",
      "Kurtosis:                       8.966   Cond. No.                     5.25e+03\n",
      "==============================================================================\n",
      "\n",
      "Notes:\n",
      "[1] Standard Errors assume that the covariance matrix of the errors is correctly specified.\n",
      "[2] The condition number is large, 5.25e+03. This might indicate that there are\n",
      "strong multicollinearity or other numerical problems.\n"
     ]
    }
   ],
   "source": [
    "model6 = sm.OLS(ytrain,xtrain6)\n",
    "results6 = model6.fit()\n",
    "print(results6.summary())"
   ]
  },
  {
   "cell_type": "markdown",
   "metadata": {},
   "source": [
    "**Elimination of 'Discount' feature has reduced both normal and adjusted R-squared values, hence 'Discount' is a statistically significant predictor in our model**"
   ]
  },
  {
   "cell_type": "code",
   "execution_count": 55,
   "metadata": {},
   "outputs": [],
   "source": [
    "## Remove factors with high p-value\n",
    "xtrain7 = xtrain6.drop('TV', axis=1)\n",
    "xtest7 = xtest6.drop('TV', axis=1)"
   ]
  },
  {
   "cell_type": "code",
   "execution_count": 56,
   "metadata": {},
   "outputs": [
    {
     "name": "stdout",
     "output_type": "stream",
     "text": [
      "                            OLS Regression Results                            \n",
      "==============================================================================\n",
      "Dep. Variable:            NewVolSales   R-squared:                       0.727\n",
      "Model:                            OLS   Adj. R-squared:                  0.713\n",
      "Method:                 Least Squares   F-statistic:                     51.97\n",
      "Date:                Fri, 22 Oct 2021   Prob (F-statistic):           2.95e-21\n",
      "Time:                        00:46:48   Log-Likelihood:                -677.86\n",
      "No. Observations:                  83   AIC:                             1366.\n",
      "Df Residuals:                      78   BIC:                             1378.\n",
      "Df Model:                           4                                         \n",
      "Covariance Type:            nonrobust                                         \n",
      "=====================================================================================================\n",
      "                                        coef    std err          t      P>|t|      [0.025      0.975]\n",
      "-----------------------------------------------------------------------------------------------------\n",
      "const                              5.515e+04   3264.958     16.891      0.000    4.86e+04    6.16e+04\n",
      "Base_Price                        -2120.9353    205.587    -10.316      0.000   -2530.227   -1711.643\n",
      "InStore                              37.6303      7.351      5.119      0.000      22.995      52.265\n",
      "Stout                             -1397.0092    322.335     -4.334      0.000   -2038.729    -755.289\n",
      "Website_Campaign_Website_Campaign -1649.4405    432.831     -3.811      0.000   -2511.141    -787.740\n",
      "==============================================================================\n",
      "Omnibus:                       36.585   Durbin-Watson:                   2.197\n",
      "Prob(Omnibus):                  0.000   Jarque-Bera (JB):              121.394\n",
      "Skew:                           1.360   Prob(JB):                     4.36e-27\n",
      "Kurtosis:                       8.264   Cond. No.                     1.33e+03\n",
      "==============================================================================\n",
      "\n",
      "Notes:\n",
      "[1] Standard Errors assume that the covariance matrix of the errors is correctly specified.\n",
      "[2] The condition number is large, 1.33e+03. This might indicate that there are\n",
      "strong multicollinearity or other numerical problems.\n"
     ]
    }
   ],
   "source": [
    "model7 = sm.OLS(ytrain,xtrain7)\n",
    "results7 = model7.fit()\n",
    "print(results7.summary())"
   ]
  },
  {
   "cell_type": "markdown",
   "metadata": {},
   "source": [
    "**Similar to the previous case, dropping 'TV' from the predictors list caused both the R-squared values to fall even further. Therefore, this feature is significant as well**\n",
    "\n",
    "Proceeding with `model5 ~ results5` for further evaluation"
   ]
  },
  {
   "cell_type": "markdown",
   "metadata": {},
   "source": [
    "#### Evaluation Metrics\n",
    "\n",
    "- `MSE(Mean squared error)`: tells you how close a regression line is to a set of points; does this by taking the distances from the points to the regression line (these distances are the “errors”) and squaring them.\n",
    "\n",
    "- `RMSE (Root mean squared error)`: the standard deviation of the residuals (prediction errors); RMSE is a measure of how spread out these residuals are\n",
    "\n",
    "- `MAE (Mean Absolute Error)`: measures the average magnitude of the errors in a set of forecasts, without considering their direction\n",
    "\n",
    "- `R-squared (R2)`: a statistical measure that represents the proportion of the variance for a dependent variable that's explained by an independent variable or variables in a regression model\n"
   ]
  },
  {
   "cell_type": "code",
   "execution_count": 57,
   "metadata": {},
   "outputs": [],
   "source": [
    "from sklearn.metrics import mean_absolute_error, mean_squared_error, r2_score"
   ]
  },
  {
   "cell_type": "code",
   "execution_count": 58,
   "metadata": {},
   "outputs": [],
   "source": [
    "predictions = results5.predict(xtest5)"
   ]
  },
  {
   "cell_type": "code",
   "execution_count": 59,
   "metadata": {},
   "outputs": [],
   "source": [
    "actuals = ytest"
   ]
  },
  {
   "cell_type": "code",
   "execution_count": 60,
   "metadata": {},
   "outputs": [
    {
     "data": {
      "text/plain": [
       "423.23375336528954"
      ]
     },
     "execution_count": 60,
     "metadata": {},
     "output_type": "execute_result"
    }
   ],
   "source": [
    "## Mean Absolute error\n",
    "mae = mean_absolute_error(actuals,predictions)\n",
    "mae"
   ]
  },
  {
   "cell_type": "code",
   "execution_count": 61,
   "metadata": {},
   "outputs": [
    {
     "data": {
      "text/plain": [
       "330962.2829490623"
      ]
     },
     "execution_count": 61,
     "metadata": {},
     "output_type": "execute_result"
    }
   ],
   "source": [
    "## Mean squared error\n",
    "mse = mean_squared_error(actuals,predictions)\n",
    "mse"
   ]
  },
  {
   "cell_type": "code",
   "execution_count": 62,
   "metadata": {},
   "outputs": [
    {
     "data": {
      "text/plain": [
       "575.293214760145"
      ]
     },
     "execution_count": 62,
     "metadata": {},
     "output_type": "execute_result"
    }
   ],
   "source": [
    "## Root mean squared error\n",
    "rmse = mean_squared_error(actuals,predictions,squared=False)\n",
    "rmse"
   ]
  },
  {
   "cell_type": "code",
   "execution_count": 63,
   "metadata": {},
   "outputs": [
    {
     "data": {
      "text/plain": [
       "0.8043103423686543"
      ]
     },
     "execution_count": 63,
     "metadata": {},
     "output_type": "execute_result"
    }
   ],
   "source": [
    "## R-squared\n",
    "r2 = r2_score(actuals,predictions)\n",
    "r2"
   ]
  },
  {
   "cell_type": "code",
   "execution_count": 64,
   "metadata": {},
   "outputs": [
    {
     "data": {
      "text/plain": [
       "0.021150782018738493"
      ]
     },
     "execution_count": 64,
     "metadata": {},
     "output_type": "execute_result"
    }
   ],
   "source": [
    "## MAPE - the sum of the individual absolute errors divided by the demand\n",
    "## It is the average of the percentage errors\n",
    "## The lower the value for MAPE, the better a model is able to predict values\n",
    "\n",
    "mape = np.mean(abs((actuals - predictions)/actuals)) \n",
    "mape"
   ]
  },
  {
   "cell_type": "markdown",
   "metadata": {},
   "source": [
    "#### Inference\n",
    "\n",
    "R-squared is 80.4% which is fairly good for the data in question. Also, the error metric values are not too huge which is a good sign.\n",
    "\n",
    "MAPE shows only 2% which is way below 10% and hence within an acceptable range."
   ]
  },
  {
   "cell_type": "markdown",
   "metadata": {},
   "source": [
    "### Assumption Of Linear Regression\n",
    "\n",
    "\n",
    "#### 1. Linearity\n",
    "This assumes that there is a linear relationship between the predictors (e.g. independent variables or features) and the response variable (e.g. dependent variable or label). This also assumes that the predictors are additive.\n",
    "\n",
    "\n",
    "#### Why it can happen:\n",
    "There may not just be a linear relationship among the data. Modeling is about trying to estimate a function that explains a process, and linear regression would not be a fitting estimator (pun intended) if there is no linear relationship.\n",
    "\n",
    "#### How will it affect: \n",
    "The predictions will be extremely inaccurate because our model is underfitting. This is a serious violation that should not be ignored.\n",
    "\n",
    "#### How to detect it: \n",
    "If there is only one predictor, this is pretty easy to test with a scatter plot. Most cases aren’t so simple, so we’ll have to modify this by using a scatter plot to see our predicted values versus the actual values (in other words, view the residuals). Ideally, the points should lie on or around a diagonal line on the scatter plot.\n",
    "\n",
    "\n",
    "#### How to fix it: \n",
    "Either adding polynomial terms to some of the predictors or applying nonlinear transformations. If those do not work, try adding additional variables to help capture the relationship between the predictors and the label."
   ]
  },
  {
   "cell_type": "code",
   "execution_count": 65,
   "metadata": {},
   "outputs": [
    {
     "data": {
      "text/html": [
       "<div>\n",
       "<style scoped>\n",
       "    .dataframe tbody tr th:only-of-type {\n",
       "        vertical-align: middle;\n",
       "    }\n",
       "\n",
       "    .dataframe tbody tr th {\n",
       "        vertical-align: top;\n",
       "    }\n",
       "\n",
       "    .dataframe thead th {\n",
       "        text-align: right;\n",
       "    }\n",
       "</style>\n",
       "<table border=\"1\" class=\"dataframe\">\n",
       "  <thead>\n",
       "    <tr style=\"text-align: right;\">\n",
       "      <th></th>\n",
       "      <th>Actual</th>\n",
       "      <th>Predicted</th>\n",
       "      <th>Residuals</th>\n",
       "    </tr>\n",
       "  </thead>\n",
       "  <tbody>\n",
       "    <tr>\n",
       "      <th>41</th>\n",
       "      <td>18977</td>\n",
       "      <td>19343.73</td>\n",
       "      <td>-366.73</td>\n",
       "    </tr>\n",
       "    <tr>\n",
       "      <th>78</th>\n",
       "      <td>23677</td>\n",
       "      <td>22909.21</td>\n",
       "      <td>767.79</td>\n",
       "    </tr>\n",
       "    <tr>\n",
       "      <th>98</th>\n",
       "      <td>19126</td>\n",
       "      <td>19468.49</td>\n",
       "      <td>-342.49</td>\n",
       "    </tr>\n",
       "    <tr>\n",
       "      <th>31</th>\n",
       "      <td>21034</td>\n",
       "      <td>20717.00</td>\n",
       "      <td>317.00</td>\n",
       "    </tr>\n",
       "    <tr>\n",
       "      <th>29</th>\n",
       "      <td>21507</td>\n",
       "      <td>21282.82</td>\n",
       "      <td>224.18</td>\n",
       "    </tr>\n",
       "    <tr>\n",
       "      <th>...</th>\n",
       "      <td>...</td>\n",
       "      <td>...</td>\n",
       "      <td>...</td>\n",
       "    </tr>\n",
       "    <tr>\n",
       "      <th>43</th>\n",
       "      <td>19980</td>\n",
       "      <td>20619.12</td>\n",
       "      <td>-639.12</td>\n",
       "    </tr>\n",
       "    <tr>\n",
       "      <th>63</th>\n",
       "      <td>19756</td>\n",
       "      <td>20376.54</td>\n",
       "      <td>-620.54</td>\n",
       "    </tr>\n",
       "    <tr>\n",
       "      <th>34</th>\n",
       "      <td>19696</td>\n",
       "      <td>19733.44</td>\n",
       "      <td>-37.44</td>\n",
       "    </tr>\n",
       "    <tr>\n",
       "      <th>76</th>\n",
       "      <td>21710</td>\n",
       "      <td>19671.06</td>\n",
       "      <td>2038.94</td>\n",
       "    </tr>\n",
       "    <tr>\n",
       "      <th>44</th>\n",
       "      <td>20442</td>\n",
       "      <td>20023.23</td>\n",
       "      <td>418.77</td>\n",
       "    </tr>\n",
       "  </tbody>\n",
       "</table>\n",
       "<p>83 rows × 3 columns</p>\n",
       "</div>"
      ],
      "text/plain": [
       "    Actual  Predicted  Residuals\n",
       "41   18977   19343.73    -366.73\n",
       "78   23677   22909.21     767.79\n",
       "98   19126   19468.49    -342.49\n",
       "31   21034   20717.00     317.00\n",
       "29   21507   21282.82     224.18\n",
       "..     ...        ...        ...\n",
       "43   19980   20619.12    -639.12\n",
       "63   19756   20376.54    -620.54\n",
       "34   19696   19733.44     -37.44\n",
       "76   21710   19671.06    2038.94\n",
       "44   20442   20023.23     418.77\n",
       "\n",
       "[83 rows x 3 columns]"
      ]
     },
     "execution_count": 65,
     "metadata": {},
     "output_type": "execute_result"
    }
   ],
   "source": [
    "# Create predictions on the features with the model and calculates residuals\n",
    "\n",
    "predictions = results5.predict(xtrain5)\n",
    "df_results = pd.DataFrame({'Actual': ytrain, 'Predicted': predictions})\n",
    "df_results['Residuals'] = abs(df_results['Actual']) - abs(df_results['Predicted'])\n",
    "df_results"
   ]
  },
  {
   "cell_type": "markdown",
   "metadata": {},
   "source": [
    "`seaborn.lmplot(*, x=None, y=None, data=None, hue=None, col=None, row=None, palette=None, col_wrap=None, height=5, aspect=1, markers='o', sharex=None, sharey=None, hue_order=None, col_order=None, row_order=None, legend=True, legend_out=None, x_estimator=None, x_bins=None, x_ci='ci', scatter=True, fit_reg=True, ci=95, n_boot=1000, units=None, seed=None, order=1, logistic=False, lowess=False, robust=False, logx=False, x_partial=None, y_partial=None, truncate=True, x_jitter=None, y_jitter=None, scatter_kws=None, line_kws=None, facet_kws=None, size=None)`\n",
    "\n",
    "- lmplot plots data and regression model fits across a FacetGrid.\n",
    "- This function combines regplot() and FacetGrid. It is intended as a convenient interface to fit regression models across conditional subsets of a dataset.\n",
    "\n",
    "**Parameters**\n",
    "- x, y: strings, optional\n",
    "  \n",
    "  Input variables; these should be column names in data.\n",
    "\n",
    "- data: DataFrame\n",
    "  \n",
    "  Tidy (“long-form”) dataframe where each column is a variable and each row is an observation.\n",
    "\n",
    "- hue,col,row: strings\n",
    "  \n",
    "  Variables that define subsets of the data, which will be drawn on separate facets in the grid. \n",
    "\n",
    "- palette: palette name, list, or dict\n",
    "  \n",
    "  Colors to use for the different levels of the hue variable. Should be something that can be interpreted by color_palette(), or a dictionary mapping hue levels to matplotlib colors.\n",
    "\n",
    "- col_wrap: int\n",
    "  \n",
    "  “Wrap” the column variable at this width, so that the column facets span multiple rows. Incompatible with a row facet.\n",
    "\n",
    "- height: scalar\n",
    "  \n",
    "  Height (in inches) of each facet.\n",
    "\n",
    "- aspect: scalar\n",
    "  \n",
    "  Aspect ratio of each facet, so that aspect * height gives the width of each facet in inches.\n",
    "\n",
    "- markers: matplotlib marker code or list of marker codes, optional\n",
    "  \n",
    "  Markers for the scatterplot. If a list, each marker in the list will be used for each level of the hue variable.\n",
    "\n",
    "- share{x,y}: bool, ‘col’, or ‘row’ optional\n",
    "  \n",
    "  If true, the facets will share y axes across columns and/or x axes across rows.\n",
    "\n",
    "- {hue,col,row}_order: lists, optional\n",
    "  \n",
    "  Order for the levels of the faceting variables. By default, this will be the order that the levels appear in data or, if the variables are pandas categoricals, the category order.\n",
    "\n",
    "- legend: bool, optional\n",
    "  \n",
    "  If True and there is a hue variable, add a legend.\n",
    "\n",
    "- legend_out: bool\n",
    "  \n",
    "  If True, the figure size will be extended, and the legend will be drawn outside the plot on the center right.\n",
    "\n",
    "- x_estimator: callable that maps vector -> scalar, optional\n",
    "  \n",
    "  Apply this function to each unique value of x and plot the resulting estimate. This is useful when x is a discrete variable. If x_ci is given, this estimate will be bootstrapped and a confidence interval will be drawn.\n",
    "\n",
    "- x_bins: int or vector, optional\n",
    "  \n",
    "  Bin the x variable into discrete bins and then estimate the central tendency and a confidence interval. This binning only influences how the scatterplot is drawn; the regression is still fit to the original data. This parameter is interpreted either as the number of evenly-sized (not necessary spaced) bins or the positions of the bin centers. When this parameter is used, it implies that the default of x_estimator is numpy.mean.\n",
    "\n",
    "- x_ci: “ci”, “sd”, int in [0, 100] or None, optional\n",
    "  \n",
    "  Size of the confidence interval used when plotting a central tendency for discrete values of x. If \"ci\", defer to the value of the ci parameter. If \"sd\", skip bootstrapping and show the standard deviation of the observations in each bin.\n",
    "\n",
    "- scatter: bool, optional\n",
    "\n",
    "  If True, draw a scatterplot with the underlying observations (or the x_estimator values).\n",
    "\n",
    "- fit_reg: bool, optional\n",
    "  \n",
    "  If True, estimate and plot a regression model relating the x and y variables.\n",
    "\n",
    "- ci: int in [0, 100] or None, optional\n",
    "\n",
    "  Size of the confidence interval for the regression estimate. This will be drawn using translucent bands around the regression line. The confidence interval is estimated using a bootstrap; for large datasets, it may be advisable to avoid that computation by setting this parameter to None.\n",
    "\n",
    "- n_boot: int, optional\n",
    "  \n",
    "  Number of bootstrap resamples used to estimate the ci. The default value attempts to balance time and stability; you may want to increase this value for “final” versions of plots.\n",
    "\n",
    "- units: variable name in data, optional\n",
    "\n",
    "  If the x and y observations are nested within sampling units, those can be specified here. This will be taken into account when computing the confidence intervals by performing a multilevel bootstrap that resamples both units and observations (within unit). This does not otherwise influence how the regression is estimated or drawn.\n",
    "\n",
    "- seed: int, numpy.random.Generator, or numpy.random.RandomState, optional\n",
    "\n",
    "  Seed or random number generator for reproducible bootstrapping.\n",
    "\n",
    "- order: int, optional\n",
    "\n",
    "  If order is greater than 1, use numpy.polyfit to estimate a polynomial regression.\n",
    "\n",
    "- logistic: bool, optional\n",
    "\n",
    "  If True, assume that y is a binary variable and use statsmodels to estimate a logistic regression model. Note that this is substantially more computationally intensive than linear regression, so you may wish to decrease the number of bootstrap resamples (n_boot) or set ci to None.\n",
    "\n",
    "- lowess: bool, optional\n",
    "\n",
    "  If True, use statsmodels to estimate a nonparametric lowess model (locally weighted linear regression). Note that confidence intervals cannot currently be drawn for this kind of model.\n",
    "\n",
    "- robust: bool, optional\n",
    "\n",
    "  If True, use statsmodels to estimate a robust regression. This will de-weight outliers. Note that this is substantially more computationally intensive than standard linear regression, so you may wish to decrease the number of bootstrap resamples (n_boot) or set ci to None.\n",
    "\n",
    "- logx: bool, optional\n",
    "\n",
    "  If True, estimate a linear regression of the form y ~ log(x), but plot the scatterplot and regression model in the input space. Note that x must be positive for this to work.\n",
    "\n",
    "- {x,y}_partial: strings in data or matrices\n",
    "\n",
    "  Confounding variables to regress out of the x or y variables before plotting.\n",
    "\n",
    "- truncate: bool, optional\n",
    "\n",
    "  If True, the regression line is bounded by the data limits. If False, it extends to the x axis limits.\n",
    "\n",
    "- {x,y}_jitter: floats, optional\n",
    "\n",
    "  Add uniform random noise of this size to either the x or y variables. The noise is added to a copy of the data after fitting the regression, and only influences the look of the scatterplot. This can be helpful when plotting variables that take discrete values.\n",
    "\n",
    "- {scatter,line}_kws: dictionaries\n",
    "\n",
    "  Additional keyword arguments to pass to plt.scatter and plt.plot.\n",
    "\n",
    "- facet_kws: dict\n",
    "\n",
    "  Dictionary of keyword arguments for FacetGrid."
   ]
  },
  {
   "cell_type": "code",
   "execution_count": 66,
   "metadata": {},
   "outputs": [
    {
     "name": "stdout",
     "output_type": "stream",
     "text": [
      "Assumption 1: Linear Relationship between the Target and the Feature \n",
      "\n",
      "Checking with a scatter plot of actual vs. predicted. Predictions should follow the diagonal line.\n"
     ]
    },
    {
     "data": {
      "image/png": "[encoded data removed]",
      "text/plain": [
       "<Figure size 576x576 with 1 Axes>"
      ]
     },
     "metadata": {
      "needs_background": "light"
     },
     "output_type": "display_data"
    }
   ],
   "source": [
    "print('Assumption 1: Linear Relationship between the Target and the Feature', '\\n')\n",
    "        \n",
    "print('Checking with a scatter plot of actual vs. predicted.',\n",
    "      'Predictions should follow the diagonal line.')\n",
    "\n",
    "# Plotting the actual vs predicted values\n",
    "sns.lmplot(x='Actual', y='Predicted', data=df_results, fit_reg=False, height=8)\n",
    "        \n",
    "# Plotting the diagonal line\n",
    "line_coords = np.arange(df_results.min().min(), df_results.max().max())\n",
    "plt.plot(line_coords, line_coords,  # X and y points\n",
    "         color='darkorange', linestyle='--')\n",
    "plt.title('Actual vs. Predicted')\n",
    "plt.show()"
   ]
  },
  {
   "cell_type": "markdown",
   "metadata": {},
   "source": [
    "- We can see a relatively even spread around the diagonal line\n",
    "- We may conclude that linearity assumption is satisfied"
   ]
  },
  {
   "cell_type": "markdown",
   "metadata": {},
   "source": [
    "#### 2. Normality of the Error Terms\n",
    "More specifically, this assumes that the error terms of the model are normally distributed. Linear regressions other than Ordinary Least Squares (OLS) may also assume normality of the predictors or the label, but that is not the case here.\n",
    "\n",
    "#### Why it can happen: \n",
    "This can actually happen if either the predictors or the label are significantly non-normal. Other potential reasons could include the linearity assumption being violated or outliers affecting our model.\n",
    "\n",
    "#### How will it affect:\n",
    "A violation of this assumption could cause issues with either shrinking or inflating our confidence intervals.\n",
    "\n",
    "#### How to detect it: \n",
    "There are various ways to do so, but Q-Q plot is the simplest of all.\n",
    "\n",
    "#### How to fix it:\n",
    "It depends on the root cause, but there are a few options. Nonlinear transformations of the variables, excluding specific variables (such as long-tailed variables), or removing outliers may solve this problem."
   ]
  },
  {
   "cell_type": "markdown",
   "metadata": {},
   "source": [
    "###### Q-Q Plot\n",
    "- Q-Q or quantile-quantile is a scatter plot which helps us validate the assumption of normal distribution in a data set.\n",
    "- Using this plot we can infer if the data comes from a normal distribution. If yes, the plot would show fairly straight line.\n",
    "- Absence of normality in the errors can be seen with deviation in the straight line.\n",
    "\n",
    "![alt text](https://www.analyticsvidhya.com/wp-content/uploads/2016/07/quantile.png \"Normal vs Not Normal QQ\")"
   ]
  },
  {
   "cell_type": "code",
   "execution_count": 67,
   "metadata": {},
   "outputs": [
    {
     "data": {
      "image/png": "[encoded data removed]",
      "text/plain": [
       "<Figure size 432x288 with 1 Axes>"
      ]
     },
     "metadata": {
      "needs_background": "light"
     },
     "output_type": "display_data"
    }
   ],
   "source": [
    "# Getting Residuals \n",
    "res = results5.resid\n",
    "\n",
    "# Checking for normality of error\n",
    "fig = sm.qqplot(res, fit=True, line='45')\n",
    "plt.show()"
   ]
  },
  {
   "cell_type": "markdown",
   "metadata": {},
   "source": [
    "The residuals appear to be normally distributed from the q-q plot"
   ]
  },
  {
   "cell_type": "markdown",
   "metadata": {},
   "source": [
    "### 3. No Multicollinearity Among Predictors\n",
    "This assumes that the predictors used in the regression are not correlated with each other. This won’t render our model unusable if violated, but it will cause issues with the interpretability of the model.\n",
    "\n",
    "#### Why it may happen: \n",
    "A lot of data is just naturally correlated. Features normally have some level of correlation with each other.\n",
    "\n",
    "#### How will it affect:\n",
    "Multicollinearity causes issues with the interpretation of the coefficients. Specifically, you can interpret a coefficient as “an increase of 1 in this predictor results in a change of (coefficient) in the response variable, holding all other predictors constant.” This becomes problematic when multicollinearity is present because we can’t hold correlated predictors constant. Additionally, it increases the standard error of the coefficients, which results in them potentially showing as statistically insignificant when they might actually be significant.\n",
    "\n",
    "#### How to detect it:\n",
    "We will examine the variance inflation factor (VIF).\n",
    "\n",
    "#### How to fix it: \n",
    "This can be fixed by other removing predictors with a high variance inflation factor (VIF) or performing dimensionality reduction."
   ]
  },
  {
   "cell_type": "markdown",
   "metadata": {},
   "source": [
    "#### Multicollinearity Check\n",
    "\n",
    "- Multicollinearity occurs when two or more independent variables are highly correlated with one another in a regression model; that is an independent variable can be predicted from another independent variable in a regression model.\n",
    "- Multicollinearity can be a problem in a regression model because we would not be able to distinguish between the individual effects of the independent variables on the dependent variable.\n",
    "- Multicollinearity may not affect the accuracy of the model as much, but we may lose reliability while determining the effects of individual features in your model – and that can be a problem when it comes to interpretability.\n",
    "\n",
    "\n",
    "**patsy is a Python package for describing statistical models (especially linear models, or models that have a linear component) and building design matrices**\n",
    "\n",
    "For calculating vif, we’ll have to create an X matrix and a y matrix so we create a dmatrices() and fitting the model into it.\n",
    "\n",
    "X matrix with all the features + intercept\n"
   ]
  },
  {
   "cell_type": "code",
   "execution_count": 69,
   "metadata": {},
   "outputs": [],
   "source": [
    "#pip install patsy"
   ]
  },
  {
   "cell_type": "code",
   "execution_count": 68,
   "metadata": {},
   "outputs": [],
   "source": [
    "from patsy import dmatrices"
   ]
  },
  {
   "cell_type": "code",
   "execution_count": 69,
   "metadata": {},
   "outputs": [],
   "source": [
    "Y, X = dmatrices('NewVolSales~Base_Price+InStore+TV+Discount+Stout+Website_Campaign_Website_Campaign',\n",
    "                 data=data, return_type='dataframe')"
   ]
  },
  {
   "cell_type": "code",
   "execution_count": 70,
   "metadata": {},
   "outputs": [
    {
     "data": {
      "text/html": [
       "<div>\n",
       "<style scoped>\n",
       "    .dataframe tbody tr th:only-of-type {\n",
       "        vertical-align: middle;\n",
       "    }\n",
       "\n",
       "    .dataframe tbody tr th {\n",
       "        vertical-align: top;\n",
       "    }\n",
       "\n",
       "    .dataframe thead th {\n",
       "        text-align: right;\n",
       "    }\n",
       "</style>\n",
       "<table border=\"1\" class=\"dataframe\">\n",
       "  <thead>\n",
       "    <tr style=\"text-align: right;\">\n",
       "      <th></th>\n",
       "      <th>Intercept</th>\n",
       "      <th>Base_Price</th>\n",
       "      <th>InStore</th>\n",
       "      <th>TV</th>\n",
       "      <th>Discount</th>\n",
       "      <th>Stout</th>\n",
       "      <th>Website_Campaign_Website_Campaign</th>\n",
       "    </tr>\n",
       "  </thead>\n",
       "  <tbody>\n",
       "    <tr>\n",
       "      <th>0</th>\n",
       "      <td>1.00</td>\n",
       "      <td>15.03</td>\n",
       "      <td>15.45</td>\n",
       "      <td>101.78</td>\n",
       "      <td>0.00</td>\n",
       "      <td>2.28</td>\n",
       "      <td>0.00</td>\n",
       "    </tr>\n",
       "    <tr>\n",
       "      <th>1</th>\n",
       "      <td>1.00</td>\n",
       "      <td>15.03</td>\n",
       "      <td>16.39</td>\n",
       "      <td>76.73</td>\n",
       "      <td>0.00</td>\n",
       "      <td>2.22</td>\n",
       "      <td>0.00</td>\n",
       "    </tr>\n",
       "    <tr>\n",
       "      <th>2</th>\n",
       "      <td>1.00</td>\n",
       "      <td>14.59</td>\n",
       "      <td>62.69</td>\n",
       "      <td>131.59</td>\n",
       "      <td>0.05</td>\n",
       "      <td>2.01</td>\n",
       "      <td>0.00</td>\n",
       "    </tr>\n",
       "    <tr>\n",
       "      <th>3</th>\n",
       "      <td>1.00</td>\n",
       "      <td>15.33</td>\n",
       "      <td>16.57</td>\n",
       "      <td>119.63</td>\n",
       "      <td>0.00</td>\n",
       "      <td>2.20</td>\n",
       "      <td>0.00</td>\n",
       "    </tr>\n",
       "    <tr>\n",
       "      <th>4</th>\n",
       "      <td>1.00</td>\n",
       "      <td>15.64</td>\n",
       "      <td>41.50</td>\n",
       "      <td>103.44</td>\n",
       "      <td>0.04</td>\n",
       "      <td>1.82</td>\n",
       "      <td>0.00</td>\n",
       "    </tr>\n",
       "  </tbody>\n",
       "</table>\n",
       "</div>"
      ],
      "text/plain": [
       "   Intercept  Base_Price  InStore     TV  Discount  Stout  \\\n",
       "0       1.00       15.03    15.45 101.78      0.00   2.28   \n",
       "1       1.00       15.03    16.39  76.73      0.00   2.22   \n",
       "2       1.00       14.59    62.69 131.59      0.05   2.01   \n",
       "3       1.00       15.33    16.57 119.63      0.00   2.20   \n",
       "4       1.00       15.64    41.50 103.44      0.04   1.82   \n",
       "\n",
       "   Website_Campaign_Website_Campaign  \n",
       "0                               0.00  \n",
       "1                               0.00  \n",
       "2                               0.00  \n",
       "3                               0.00  \n",
       "4                               0.00  "
      ]
     },
     "execution_count": 70,
     "metadata": {},
     "output_type": "execute_result"
    }
   ],
   "source": [
    "X.head()"
   ]
  },
  {
   "cell_type": "code",
   "execution_count": 71,
   "metadata": {},
   "outputs": [
    {
     "data": {
      "text/html": [
       "<div>\n",
       "<style scoped>\n",
       "    .dataframe tbody tr th:only-of-type {\n",
       "        vertical-align: middle;\n",
       "    }\n",
       "\n",
       "    .dataframe tbody tr th {\n",
       "        vertical-align: top;\n",
       "    }\n",
       "\n",
       "    .dataframe thead th {\n",
       "        text-align: right;\n",
       "    }\n",
       "</style>\n",
       "<table border=\"1\" class=\"dataframe\">\n",
       "  <thead>\n",
       "    <tr style=\"text-align: right;\">\n",
       "      <th></th>\n",
       "      <th>NewVolSales</th>\n",
       "    </tr>\n",
       "  </thead>\n",
       "  <tbody>\n",
       "    <tr>\n",
       "      <th>0</th>\n",
       "      <td>19564.00</td>\n",
       "    </tr>\n",
       "    <tr>\n",
       "      <th>1</th>\n",
       "      <td>19387.00</td>\n",
       "    </tr>\n",
       "    <tr>\n",
       "      <th>2</th>\n",
       "      <td>23889.00</td>\n",
       "    </tr>\n",
       "    <tr>\n",
       "      <th>3</th>\n",
       "      <td>20055.00</td>\n",
       "    </tr>\n",
       "    <tr>\n",
       "      <th>4</th>\n",
       "      <td>20064.00</td>\n",
       "    </tr>\n",
       "  </tbody>\n",
       "</table>\n",
       "</div>"
      ],
      "text/plain": [
       "   NewVolSales\n",
       "0     19564.00\n",
       "1     19387.00\n",
       "2     23889.00\n",
       "3     20055.00\n",
       "4     20064.00"
      ]
     },
     "execution_count": 71,
     "metadata": {},
     "output_type": "execute_result"
    }
   ],
   "source": [
    "Y.head()"
   ]
  },
  {
   "cell_type": "markdown",
   "metadata": {},
   "source": [
    "#### Variance Inflation Factor (VIF)\n",
    "\n",
    "- VIF is a measure of the amount of multicollinearity in a set of multiple regression variables. \n",
    "- Mathematically, the VIF for a regression model variable is equal to the ratio of the overall model variance to the variance of a model that includes only that single independent variable. This ratio is calculated for each independent variable. \n",
    "- A high VIF indicates that the associated independent variable is highly collinear with the other variables in the model."
   ]
  },
  {
   "cell_type": "code",
   "execution_count": 72,
   "metadata": {},
   "outputs": [],
   "source": [
    "## VIF\n",
    "from statsmodels.stats.outliers_influence import variance_inflation_factor"
   ]
  },
  {
   "cell_type": "code",
   "execution_count": 73,
   "metadata": {},
   "outputs": [],
   "source": [
    "vif = pd.DataFrame()\n",
    "vif[\"VIF Factor\"] = [variance_inflation_factor(X.values, i) for i in range(X.shape[1])]\n",
    "vif[\"features\"] = X.columns"
   ]
  },
  {
   "cell_type": "code",
   "execution_count": 74,
   "metadata": {},
   "outputs": [
    {
     "data": {
      "text/html": [
       "<div>\n",
       "<style scoped>\n",
       "    .dataframe tbody tr th:only-of-type {\n",
       "        vertical-align: middle;\n",
       "    }\n",
       "\n",
       "    .dataframe tbody tr th {\n",
       "        vertical-align: top;\n",
       "    }\n",
       "\n",
       "    .dataframe thead th {\n",
       "        text-align: right;\n",
       "    }\n",
       "</style>\n",
       "<table border=\"1\" class=\"dataframe\">\n",
       "  <thead>\n",
       "    <tr style=\"text-align: right;\">\n",
       "      <th></th>\n",
       "      <th>VIF Factor</th>\n",
       "      <th>features</th>\n",
       "    </tr>\n",
       "  </thead>\n",
       "  <tbody>\n",
       "    <tr>\n",
       "      <th>0</th>\n",
       "      <td>1173.80</td>\n",
       "      <td>Intercept</td>\n",
       "    </tr>\n",
       "    <tr>\n",
       "      <th>1</th>\n",
       "      <td>1.10</td>\n",
       "      <td>Base_Price</td>\n",
       "    </tr>\n",
       "    <tr>\n",
       "      <th>2</th>\n",
       "      <td>2.20</td>\n",
       "      <td>InStore</td>\n",
       "    </tr>\n",
       "    <tr>\n",
       "      <th>3</th>\n",
       "      <td>1.10</td>\n",
       "      <td>TV</td>\n",
       "    </tr>\n",
       "    <tr>\n",
       "      <th>4</th>\n",
       "      <td>2.20</td>\n",
       "      <td>Discount</td>\n",
       "    </tr>\n",
       "    <tr>\n",
       "      <th>5</th>\n",
       "      <td>1.10</td>\n",
       "      <td>Stout</td>\n",
       "    </tr>\n",
       "    <tr>\n",
       "      <th>6</th>\n",
       "      <td>1.20</td>\n",
       "      <td>Website_Campaign_Website_Campaign</td>\n",
       "    </tr>\n",
       "  </tbody>\n",
       "</table>\n",
       "</div>"
      ],
      "text/plain": [
       "   VIF Factor                           features\n",
       "0     1173.80                          Intercept\n",
       "1        1.10                         Base_Price\n",
       "2        2.20                            InStore\n",
       "3        1.10                                 TV\n",
       "4        2.20                           Discount\n",
       "5        1.10                              Stout\n",
       "6        1.20  Website_Campaign_Website_Campaign"
      ]
     },
     "execution_count": 74,
     "metadata": {},
     "output_type": "execute_result"
    }
   ],
   "source": [
    "vif.round(1)"
   ]
  },
  {
   "cell_type": "markdown",
   "metadata": {},
   "source": [
    "- InStore and Discount are slightly correlated but within the tolerable VIF range of 5 since VIF between two factors should be <5.\n",
    "- Same goes for Base_Price, TV and Stout."
   ]
  },
  {
   "cell_type": "markdown",
   "metadata": {},
   "source": [
    "### 4. No Autocorrelation of the Error Terms\n",
    "The presence of correlation in error terms drastically reduces model’s accuracy. This usually occurs in time series models where the next instant is dependent on previous instant. If the error terms are correlated, the estimated standard errors tend to underestimate the true standard error.\n",
    "\n",
    "If this happens, it causes confidence intervals and prediction intervals to be narrower. Narrower confidence interval means that a 95% confidence interval would have lesser probability than 0.95 that it would contain the actual value of coefficients.\n",
    "\n",
    "#### Why it may happen: \n",
    "In a time series scenario, there could be information about the past that we aren’t capturing. In a non-time series scenario, our model could be systematically biased by either under or over predicting in certain conditions. Lastly, this could be a result of a violation of the linearity assumption.\n",
    "\n",
    "#### How will it affect: \n",
    "Will impact our model estimates.\n",
    "\n",
    "#### How to detect it: \n",
    "We will perform a Durbin-Watson test to determine if either positive or negative correlation is present. Durbin–Watson (DW) statistic must lie between 0 and 4. If DW = 2, implies no autocorrelation, 0 < DW < 2 implies positive autocorrelation while \n",
    "2 < DW < 4 indicates negative autocorrelation.\n",
    "\n",
    "Alternatively, you could create residual vs time plot and look for the seasonal or correlated pattern in residual values.\n",
    "\n",
    "#### How to fix it: \n",
    "A simple fix of adding lag variables can fix this problem. Alternatively, interaction terms, additional variables, or additional transformations may fix this."
   ]
  },
  {
   "cell_type": "code",
   "execution_count": 75,
   "metadata": {},
   "outputs": [
    {
     "name": "stdout",
     "output_type": "stream",
     "text": [
      "Assumption 4: No Autocorrelation \n",
      "\n",
      "\n",
      "Performing Durbin-Watson Test\n",
      "Values of 1.5 < d < 2.5 generally show that there is no autocorrelation in the data\n",
      "0 to 2< is positive autocorrelation\n",
      ">2 to 4 is negative autocorrelation\n",
      "-------------------------------------\n",
      "Durbin-Watson: 2.1563762411030076\n",
      "Little to no autocorrelation \n",
      "\n",
      "Assumption satisfied\n"
     ]
    }
   ],
   "source": [
    "from statsmodels.stats.stattools import durbin_watson\n",
    "\n",
    "print('Assumption 4: No Autocorrelation', '\\n')\n",
    "print('\\nPerforming Durbin-Watson Test')\n",
    "print('Values of 1.5 < d < 2.5 generally show that there is no autocorrelation in the data')\n",
    "print('0 to 2< is positive autocorrelation')\n",
    "print('>2 to 4 is negative autocorrelation')\n",
    "print('-------------------------------------')\n",
    "\n",
    "durbinWatson = durbin_watson(df_results['Residuals'])\n",
    "print('Durbin-Watson:', durbinWatson)\n",
    "\n",
    "if durbinWatson < 1.5:\n",
    "    print('Signs of positive autocorrelation', '\\n')\n",
    "    print('Assumption not satisfied')\n",
    "elif durbinWatson > 2.5:\n",
    "    print('Signs of negative autocorrelation', '\\n')\n",
    "    print('Assumption not satisfied')\n",
    "else:\n",
    "    print('Little to no autocorrelation', '\\n')\n",
    "    print('Assumption satisfied')"
   ]
  },
  {
   "cell_type": "markdown",
   "metadata": {},
   "source": [
    "### 5. Homoscedasticity\n",
    "Homoscedasticity describes a situation in which the error term (that is, the “noise” or random disturbance in the relationship between the features and the target) is the same across all values of the independent variables. Linear regression assumes homoscedasticity, which is the same variance within our error terms.\n",
    "\n",
    "Heteroscedasticity, the violation of homoscedasticity, occurs when we don’t have an even variance across the error terms.\n",
    "\n",
    "#### Why it can happen: \n",
    "Our model may be giving too much weight to a subset of the data, particularly where the error variance was the largest.\n",
    "\n",
    "#### How will it affect: \n",
    "Significance tests for coefficients due to the standard errors being biased. Additionally, the confidence intervals will be either too wide or too narrow.\n",
    "\n",
    "#### How to detect it: \n",
    "Plot the residuals and see if the variance appears to be uniform.\n",
    "### How to fix it: \n",
    "Heteroscedasticity can be solved either by using weighted least squares regression instead of the standard OLS or transforming either the dependent or highly skewed variables. Performing a log transformation on the dependent variable is not a bad place to start.\n",
    "\n",
    "![alt text](https://miro.medium.com/max/875/1*Jan9oVOzNqQyhA4bSg_zwA.png \"Homo vs heteroscedasticity\")"
   ]
  },
  {
   "cell_type": "code",
   "execution_count": 76,
   "metadata": {},
   "outputs": [
    {
     "data": {
      "image/png": "[encoded data removed]",
      "text/plain": [
       "<Figure size 864x432 with 1 Axes>"
      ]
     },
     "metadata": {
      "needs_background": "light"
     },
     "output_type": "display_data"
    }
   ],
   "source": [
    "# Plotting the residuals\n",
    "\n",
    "plt.subplots(figsize=(12, 6))\n",
    "ax = plt.subplot(111)  # To remove spines\n",
    "plt.scatter(x=df_results.index, y=df_results.Residuals, alpha=0.5)\n",
    "plt.plot(np.repeat(0, df_results.index.max()), color='darkorange', linestyle='--')\n",
    "ax.spines['right'].set_visible(False)  # Removing the right spine\n",
    "ax.spines['top'].set_visible(False)  # Removing the top spine\n",
    "plt.title('Residuals')\n",
    "plt.show()  "
   ]
  },
  {
   "cell_type": "markdown",
   "metadata": {},
   "source": [
    "No discernible pattern detected in the residuals plot. Hence, homoscedasticity assumption satisfied"
   ]
  },
  {
   "cell_type": "code",
   "execution_count": 77,
   "metadata": {},
   "outputs": [],
   "source": [
    "## Building model using sklearn\n",
    "from sklearn.linear_model import LinearRegression"
   ]
  },
  {
   "cell_type": "code",
   "execution_count": 78,
   "metadata": {},
   "outputs": [],
   "source": [
    "linear_reg = LinearRegression().fit(xtrain5,ytrain)"
   ]
  },
  {
   "cell_type": "code",
   "execution_count": 79,
   "metadata": {},
   "outputs": [],
   "source": [
    "linreg_pred = linear_reg.predict(xtest5)"
   ]
  },
  {
   "cell_type": "code",
   "execution_count": 80,
   "metadata": {},
   "outputs": [
    {
     "data": {
      "text/plain": [
       "array([ 0.00000000e+00, -2.08093157e+03,  2.88556663e+01,  6.18177295e+03,\n",
       "        3.60259744e+00, -1.39142157e+03, -1.44301400e+03])"
      ]
     },
     "execution_count": 80,
     "metadata": {},
     "output_type": "execute_result"
    }
   ],
   "source": [
    "linear_reg.coef_"
   ]
  },
  {
   "cell_type": "code",
   "execution_count": 81,
   "metadata": {},
   "outputs": [
    {
     "data": {
      "text/plain": [
       "54143.60220300048"
      ]
     },
     "execution_count": 81,
     "metadata": {},
     "output_type": "execute_result"
    }
   ],
   "source": [
    "linear_reg.intercept_"
   ]
  },
  {
   "cell_type": "code",
   "execution_count": 82,
   "metadata": {},
   "outputs": [
    {
     "data": {
      "text/plain": [
       "423.2337533652717"
      ]
     },
     "execution_count": 82,
     "metadata": {},
     "output_type": "execute_result"
    }
   ],
   "source": [
    "lr_mae = mean_absolute_error(ytest, linreg_pred)\n",
    "lr_mae"
   ]
  },
  {
   "cell_type": "code",
   "execution_count": 83,
   "metadata": {},
   "outputs": [
    {
     "data": {
      "text/plain": [
       "330962.2829490436"
      ]
     },
     "execution_count": 83,
     "metadata": {},
     "output_type": "execute_result"
    }
   ],
   "source": [
    "lr_mse = mean_squared_error(ytest, linreg_pred)\n",
    "lr_mse"
   ]
  },
  {
   "cell_type": "code",
   "execution_count": 84,
   "metadata": {},
   "outputs": [
    {
     "data": {
      "text/plain": [
       "575.2932147601288"
      ]
     },
     "execution_count": 84,
     "metadata": {},
     "output_type": "execute_result"
    }
   ],
   "source": [
    "lr_rmse = mean_squared_error(ytest, linreg_pred, squared=False)\n",
    "lr_rmse"
   ]
  },
  {
   "cell_type": "code",
   "execution_count": 85,
   "metadata": {},
   "outputs": [
    {
     "data": {
      "text/plain": [
       "0.8043103423686653"
      ]
     },
     "execution_count": 85,
     "metadata": {},
     "output_type": "execute_result"
    }
   ],
   "source": [
    "lr_r2 = r2_score(ytest, linreg_pred)\n",
    "lr_r2"
   ]
  },
  {
   "cell_type": "markdown",
   "metadata": {},
   "source": [
    "### Gradient Descent Algorithm \n",
    "\n",
    "#### Cost Function\n",
    "It is a function that measures the performance of a model for any given data. Cost Function quantifies the error between predicted values and expected values and presents it in the form of a single real number.\n",
    "\n",
    "After making a hypothesis with initial parameters, we calculate the Cost function. And with a goal to reduce the cost function, we modify the parameters by using the Gradient descent algorithm over the given data.\n",
    "![alt text](https://editor.analyticsvidhya.com/uploads/90857Screenshot%20(41)_LI.jpg \"Cost function\")\n",
    "\n",
    "#### Gradient Descent\n",
    "Gradient descent is an iterative optimization algorithm for finding the local minimum of a function.\n",
    "\n",
    "To find the local minimum of a function using gradient descent, we must take steps proportional to the negative of the gradient (move away from the gradient) of the function at the current point. If we take steps proportional to the positive of the gradient (moving towards the gradient), we will approach a local maximum of the function, and the procedure is called Gradient Ascent.\n",
    "\n",
    "Gradient descent was originally proposed by CAUCHY in 1847. It is also known as steepest descent.\n",
    "![alt text](https://editor.analyticsvidhya.com/uploads/631731_P7z2BKhd0R-9uyn9ThDasA.png \"Gradient descent\")\n",
    "\n",
    "The goal of the gradient descent algorithm is to minimize the given function (say cost function). To achieve this goal, it performs two steps iteratively:\n",
    "   1. Compute the gradient (slope), the first order derivative of the function at that point\n",
    "   2. Make a step (move) in the direction opposite to the gradient, opposite direction of slope increase from the current point by alpha times the gradient at that point\n",
    "![alt text](https://editor.analyticsvidhya.com/uploads/36152Screenshot%20(43).png \"Gradient descent formula\")"
   ]
  },
  {
   "cell_type": "markdown",
   "metadata": {},
   "source": [
    "#### Alpha – The Learning Rate\n",
    "Alpha is called Learning rate – a tuning parameter in the optimization process. It decides the length of the steps.\n",
    "\n",
    "We have the direction we want to move in, now we must decide the size of the step we must take. It must be chosen carefully to end up with local minima.\n",
    "\n",
    "If the learning rate is too high, we might OVERSHOOT the minima and keep bouncing, without reaching the minima.\n",
    "If the learning rate is too small, the training might turn out to be too long.\n",
    "![alt text](https://editor.analyticsvidhya.com/uploads/43266images.png \"Alpha\")\n",
    "\n",
    "a) Learning rate is optimal, model converges to the minimum\n",
    "b) Learning rate is too small, it takes more time but converges to the minimum\n",
    "c) Learning rate is higher than the optimal value, it overshoots but converges ( 1/C < η <2/C)\n",
    "d) Learning rate is very large, it overshoots and diverges, moves away from the minima, performance decreases on learning\n",
    "\n",
    "![alt text](https://editor.analyticsvidhya.com/uploads/40982epochss.png \"Learning Rate\")\n",
    "\n",
    "`Note: As the gradient decreases while moving towards the local minima, the size of the step decreases. So, the learning rate (alpha) can be constant over the optimization and need not be varied iteratively.`\n",
    "\n",
    "#### Local Minima\n",
    "The cost function may consist of many minimum points. The gradient may settle on any one of the minima, which depends on the initial point (i.e initial parameters(theta)) and the learning rate. Therefore, the optimization may converge to different points with different starting points and learning rate.\n",
    "![alt text](https://editor.analyticsvidhya.com/uploads/90062gdopt.gif \"Local minima\")\n",
    "\n",
    "The above gif shows convergence of cost function with different starting points"
   ]
  },
  {
   "cell_type": "markdown",
   "metadata": {},
   "source": [
    "Gradient descent is simply used to find the values of a function's parameters (coefficients) that minimize a cost function as far as possible, so here we will use it to optimize the weight and bias for different regression coefficient."
   ]
  },
  {
   "cell_type": "code",
   "execution_count": 86,
   "metadata": {},
   "outputs": [],
   "source": [
    "# Random Initialization of the weight and bias\n",
    "\n",
    "import random\n",
    "def initialize(dim):\n",
    "    # dim - is the number of weights to be initialized beside the bias\n",
    "    # for reproducible result, the seed is to set to 42\n",
    "    np.random.seed(seed=42)\n",
    "    random.seed(42)\n",
    "    # initialize bias\n",
    "    b = np.random.random()\n",
    "    # intialize the weights\n",
    "    w = np.random.rand(dim)\n",
    "    \n",
    "    return b,w"
   ]
  },
  {
   "cell_type": "code",
   "execution_count": 87,
   "metadata": {},
   "outputs": [],
   "source": [
    "# Function to get prediction of all input given bias and weight\n",
    "\n",
    "def Predict_Y(b,w,X):\n",
    "    # matrix multiplication of weight with input variable\n",
    "    return b + np.matmul(X,w)"
   ]
  },
  {
   "cell_type": "markdown",
   "metadata": {},
   "source": [
    "##### Calculate the cost function\n",
    "1. Calculating the difference between the estimated Y and actual Y.\n",
    "2. Calculating the square of the above residuals and sum over all records.\n",
    "3. Divide it with the number of observations."
   ]
  },
  {
   "cell_type": "code",
   "execution_count": 88,
   "metadata": {},
   "outputs": [],
   "source": [
    "# Y is actual value of y.\n",
    "# Y_hat is predicted value of y.\n",
    "\n",
    "def get_cost(Y,Y_hat):\n",
    "    # calculate the residual- difference between actual and predicted value\n",
    "    Y_resid = Y-Y_hat\n",
    "    # matrix multiplcation with self will give square values then take the sum and divide by number of examples\n",
    "    # to calculate mean\n",
    "    \n",
    "    return np.sum(np.matmul(Y_resid.T,Y_resid))/ len(Y_resid)"
   ]
  },
  {
   "cell_type": "markdown",
   "metadata": {},
   "source": [
    "##### Updating the Weight and Bias.\n",
    "- x,y: the input and output variable\n",
    "- y_hat: predicted value with current bias and weights\n",
    "- b_0,w_0: current bias and weights\n",
    "- learning_rate: learning rate to adjust the update and step"
   ]
  },
  {
   "cell_type": "code",
   "execution_count": 89,
   "metadata": {},
   "outputs": [],
   "source": [
    "def update_beta(x,y,y_hat,b_0,w_0, learning_rate):\n",
    "    \n",
    "    # gradient of bias\n",
    "    db = (np.sum(y_hat-y)*2)/len(y)\n",
    "    # gradient of weights\n",
    "    dw = (np.dot((y_hat-y),x)*2)/len(y)\n",
    "    # update bias\n",
    "    b_1 = b_0- learning_rate *db\n",
    "    # update beta\n",
    "    w_1 = w_0- learning_rate *dw\n",
    "    \n",
    "    # return the new bias and beta values\n",
    "    return b_1,w_1"
   ]
  },
  {
   "cell_type": "code",
   "execution_count": 90,
   "metadata": {},
   "outputs": [],
   "source": [
    "# Function to find the optimal bias and weights\n",
    "\n",
    "def run_gradient_descent(X,Y,alpha=0.01,num_iterations=100):\n",
    "    \n",
    "    # Initialize the bias and weights\n",
    "    b,w = initialize(X.shape[1])\n",
    "    iter_num=0\n",
    "    \n",
    "    # Iteration_df keeps track of the cost after every 10 iterations\n",
    "    iteration_df = pd.DataFrame(columns=['iteration','cost'])\n",
    "    result_idx = 0\n",
    "    \n",
    "    # Run the iterations in loop\n",
    "    for iter in range(num_iterations):\n",
    "        # calculate predicted value of y\n",
    "        Y_hat = Predict_Y(b,w,X)\n",
    "        # calculate the cost\n",
    "        this_cost = get_cost(Y,Y_hat)\n",
    "        # save the previous bias and weights\n",
    "        prev_b = b\n",
    "        prev_w = w\n",
    "        # update and calculate the new values of bias and weights\n",
    "        b,w = update_beta(X,Y,Y_hat,prev_b,prev_w,alpha)\n",
    "        \n",
    "        # For every 10 iterations, store the cost\n",
    "        if(iter_num %10 ==0):\n",
    "            iteration_df.loc[result_idx] = [iter_num,this_cost]\n",
    "            result_idx +=1\n",
    "        \n",
    "        iter_num +=1\n",
    "        \n",
    "        \n",
    "        #print('Final estimate of b and w: ', b,w )\n",
    "        #return the final bias, weights and the cost at the end\n",
    "        \n",
    "    return iteration_df,b,w"
   ]
  },
  {
   "cell_type": "code",
   "execution_count": 91,
   "metadata": {},
   "outputs": [
    {
     "name": "stderr",
     "output_type": "stream",
     "text": [
      "<ipython-input-89-b59f06a83a57>:6: RuntimeWarning: overflow encountered in multiply\n",
      "  dw = (np.dot((y_hat-y),x)*2)/len(y)\n"
     ]
    }
   ],
   "source": [
    "# Running the gradient descent algorithm at learning rate 0.01\n",
    "df,b,w = run_gradient_descent(x, y, alpha=0.01, num_iterations=200)"
   ]
  },
  {
   "cell_type": "code",
   "execution_count": 92,
   "metadata": {},
   "outputs": [
    {
     "name": "stderr",
     "output_type": "stream",
     "text": [
      "<ipython-input-89-b59f06a83a57>:6: RuntimeWarning: overflow encountered in multiply\n",
      "  dw = (np.dot((y_hat-y),x)*2)/len(y)\n"
     ]
    }
   ],
   "source": [
    "# Running the gradient descent algorithm at learning rate 0.001\n",
    "df1,b,w = run_gradient_descent(x, y, alpha=0.001, num_iterations=200)"
   ]
  },
  {
   "cell_type": "code",
   "execution_count": 93,
   "metadata": {},
   "outputs": [
    {
     "data": {
      "text/plain": [
       "Text(0.5, 0, 'Number of Iterations')"
      ]
     },
     "execution_count": 93,
     "metadata": {},
     "output_type": "execute_result"
    },
    {
     "data": {
      "image/png": "[encoded data removed]",
      "text/plain": [
       "<Figure size 432x288 with 1 Axes>"
      ]
     },
     "metadata": {
      "needs_background": "light"
     },
     "output_type": "display_data"
    }
   ],
   "source": [
    "# Comparison of gradient descent model with different learning parameters\n",
    "\n",
    "plt.plot(df['iteration'], df['cost'], label='alpha=0.01')\n",
    "plt.plot(df1['iteration'], df1['cost'], label='alpha=0.001')\n",
    "plt.legend()\n",
    "plt.ylabel('Cost')\n",
    "plt.xlabel('Number of Iterations')"
   ]
  },
  {
   "cell_type": "code",
   "execution_count": 94,
   "metadata": {},
   "outputs": [
    {
     "data": {
      "text/plain": [
       "[<matplotlib.lines.Line2D at 0x29e58135790>]"
      ]
     },
     "execution_count": 94,
     "metadata": {},
     "output_type": "execute_result"
    },
    {
     "data": {
      "image/png": "[encoded data removed]",
      "text/plain": [
       "<Figure size 432x288 with 1 Axes>"
      ]
     },
     "metadata": {
      "needs_background": "light"
     },
     "output_type": "display_data"
    }
   ],
   "source": [
    "plt.plot(df['iteration'], df['cost'], label='alpha=0.01')"
   ]
  },
  {
   "cell_type": "markdown",
   "metadata": {},
   "source": [
    "Gradient descent algorithm is not suitable for our modeling purposes since the cost function spikes up sharply after a couple of iterations regardless of the learning rate."
   ]
  },
  {
   "cell_type": "markdown",
   "metadata": {},
   "source": [
    "### Stochastic Gradient Descent (SGD) Regressor\n",
    "The word ‘stochastic‘ means a system or a process that is linked with a random probability. Hence, in Stochastic Gradient Descent, a few samples are selected randomly instead of the whole data set for each iteration.\n",
    "\n",
    "In Gradient Descent, there is a term called “batch” which denotes the total number of samples from a dataset that is used for calculating the gradient for each iteration. `In typical Gradient Descent optimization, the batch is taken to be the whole dataset.` Although, using the whole dataset is really useful for getting to the minima in a less noisy and less random manner, but the problem arises when our datasets get big. \n",
    "\n",
    "Suppose, you have a million samples in your dataset, so if you use a typical Gradient Descent optimization technique, you will have to use all of the one million samples for completing one iteration while performing the Gradient Descent, and it has to be done for every iteration until the minima are reached. Hence, it becomes computationally very expensive to perform.\n",
    "This problem is solved by Stochastic Gradient Descent. `SGD uses only a single sample, i.e., a batch size of one, to perform each iteration. The sample is randomly shuffled and selected for performing the iteration.`\n",
    "\n",
    "In SGD, since only one sample from the dataset is chosen at random for each iteration, the path taken by the algorithm to reach the minima is usually noisier than your typical Gradient Descent algorithm. But that doesn’t matter all that much because the path taken by the algorithm does not matter, as long as we reach the minima and with a significantly shorter training time"
   ]
  },
  {
   "cell_type": "code",
   "execution_count": 95,
   "metadata": {},
   "outputs": [],
   "source": [
    "# Creating model object\n",
    "from sklearn.linear_model import SGDRegressor\n",
    "sgdr = SGDRegressor()"
   ]
  },
  {
   "cell_type": "code",
   "execution_count": 96,
   "metadata": {},
   "outputs": [
    {
     "data": {
      "text/plain": [
       "SGDRegressor()"
      ]
     },
     "execution_count": 96,
     "metadata": {},
     "output_type": "execute_result"
    }
   ],
   "source": [
    "# Fitting train data\n",
    "sgdr.fit(xtrain,ytrain)"
   ]
  },
  {
   "cell_type": "code",
   "execution_count": 97,
   "metadata": {},
   "outputs": [
    {
     "data": {
      "text/plain": [
       "array([-4.62586679e+10,  2.33374648e+11, -3.60336358e+11,  2.52204029e+08,\n",
       "       -4.40113168e+10, -4.73553628e+09,  2.16164022e+10, -1.33995351e+09,\n",
       "        1.68235905e+10,  2.91845588e+10])"
      ]
     },
     "execution_count": 97,
     "metadata": {},
     "output_type": "execute_result"
    }
   ],
   "source": [
    "sgdr.coef_"
   ]
  },
  {
   "cell_type": "code",
   "execution_count": 98,
   "metadata": {},
   "outputs": [
    {
     "data": {
      "text/plain": [
       "array([4.27981843e+08])"
      ]
     },
     "execution_count": 98,
     "metadata": {},
     "output_type": "execute_result"
    }
   ],
   "source": [
    "sgdr.intercept_"
   ]
  },
  {
   "cell_type": "code",
   "execution_count": 99,
   "metadata": {},
   "outputs": [],
   "source": [
    "# Prediction using sgd\n",
    "sgd_pred = sgdr.predict(xtest)"
   ]
  },
  {
   "cell_type": "code",
   "execution_count": 100,
   "metadata": {},
   "outputs": [
    {
     "data": {
      "text/plain": [
       "44159689473153.586"
      ]
     },
     "execution_count": 100,
     "metadata": {},
     "output_type": "execute_result"
    }
   ],
   "source": [
    "# Evaluation using mae\n",
    "sgd_mae = mean_absolute_error(ytest,sgd_pred)\n",
    "sgd_mae"
   ]
  },
  {
   "cell_type": "code",
   "execution_count": 101,
   "metadata": {},
   "outputs": [
    {
     "data": {
      "text/plain": [
       "2.0284309383348023e+27"
      ]
     },
     "execution_count": 101,
     "metadata": {},
     "output_type": "execute_result"
    }
   ],
   "source": [
    "# MSE\n",
    "sgd_mse = mean_squared_error(ytest,sgd_pred)\n",
    "sgd_mse"
   ]
  },
  {
   "cell_type": "code",
   "execution_count": 102,
   "metadata": {},
   "outputs": [
    {
     "data": {
      "text/plain": [
       "45038105403478.086"
      ]
     },
     "execution_count": 102,
     "metadata": {},
     "output_type": "execute_result"
    }
   ],
   "source": [
    "# RMSE\n",
    "sgd_rmse = mean_squared_error(ytest,sgd_pred,squared=False)\n",
    "sgd_rmse"
   ]
  },
  {
   "cell_type": "markdown",
   "metadata": {},
   "source": [
    "SGD regressor is not giving out predictions accurately for the dataset in question in comparison to linear regression"
   ]
  },
  {
   "cell_type": "markdown",
   "metadata": {},
   "source": [
    "### Regularization in ML\n",
    "\n",
    "***Why Regularization?***\n",
    "\n",
    "Sometimes our Machine learning model performs well on the training data but does not perform well on the unseen or test data. It means the model is not able to predict the output or target column for the unseen data by introducing noise in the output, and hence the model is called an overfitted model.\n",
    "\n",
    "Noise implies those data points in the dataset which don’t really represent the true properties of your data, but only due to a random chance.\n",
    "\n",
    "So, to deal with the problem of overfitting we take the help of regularization techniques.\n",
    "\n",
    "***What is Regularization?***\n",
    "\n",
    "👉 It is one of the most important concepts of machine learning. This technique prevents the model from overfitting by adding extra information to it.\n",
    "\n",
    "👉 It is a form of regression that shrinks the coefficient estimates towards zero. In other words, this technique forces us not to learn a more complex or flexible model, to avoid the problem of overfitting.\n",
    "\n",
    "👉 “How flexibility of a model is represented?”\n",
    "    For regression problems, the increase in flexibility of a model is represented by an increase in its coefficients, which are calculated from the regression line.\n",
    "\n",
    "👉 In simple words, “In the Regularization technique, we reduce the magnitude of the independent variables by keeping the same  number of variables”. It maintains accuracy as well as a generalization of the model."
   ]
  },
  {
   "cell_type": "markdown",
   "metadata": {},
   "source": [
    "***How does Regularization Work?***\n",
    "\n",
    "Regularization works by adding a penalty or complexity term or shrinkage term with Residual Sum of Squares (RSS) to the complex model.\n",
    "\n",
    "Let’s consider the Simple linear regression equation:\n",
    "\n",
    "Here Y represents the dependent feature or response which is the learned relation. Then, Y is approximated to β0 + β1X1 + β2X2 + …+ βpXp\n",
    "\n",
    "Here, X1, X2, …Xp are the independent features or predictors for Y, and β0, β1,…..βn represents the coefficients estimates for different variables or predictors(X), which describes the weights or magnitude attached to the features, respectively.\n",
    "\n",
    "In simple linear regression, our optimization function or loss function is known as the residual sum of squares (RSS).\n",
    "We choose those set of coefficients, such that the following loss function is minimized:\n",
    "![alt text](https://miro.medium.com/max/908/1*DY3-IaGcHjjLg7oYXx1O3A.png \"RSS\")\n",
    "\n",
    "Now this will adjust the coefficient estimates based on the training data. If there is noise present in the training data, then the estimated coefficients won’t generalize well and are not able to predict the future data.\n",
    "\n",
    "This is where regularization comes into the picture, which shrinks or regularizes these learned estimates towards zero, by adding a loss function with optimizing parameters to make a model that can predict the accurate value of Y."
   ]
  },
  {
   "cell_type": "markdown",
   "metadata": {},
   "source": [
    "***Types of Regularization**\n",
    "\n",
    "Mainly, there are two types of regularization techniques:\n",
    "1. Ridge Regression\n",
    "2. Lasso Regression\n",
    "\n",
    "**`Ridge Regression`**\n",
    " \n",
    "👉 Ridge regression is a kind of linear regression in which we introduce a small amount of bias, known as Ridge regression penalty so that we can get better long-term predictions.\n",
    "\n",
    "👉 In Statistics, it is known as the L-2 norm.\n",
    "\n",
    "👉 In this technique, the cost function is altered by adding the penalty term (shrinkage term), which multiplies the lambda with the squared weight of each individual feature. Therefore, the optimization function(cost function) becomes:\n",
    "![alt text](https://miro.medium.com/max/1106/1*CiqZ8lhwxi5c4d1nV24w4g.png \"L2\")\n",
    "\n",
    "In the above equation, the penalty term regularizes the coefficients of the model, and hence ridge regression reduces the magnitudes of the coefficients that help to decrease the complexity of the model."
   ]
  },
  {
   "cell_type": "code",
   "execution_count": 103,
   "metadata": {},
   "outputs": [],
   "source": [
    "# Instantiating model object\n",
    "from sklearn.linear_model import Ridge\n",
    "ridge_reg = Ridge()"
   ]
  },
  {
   "cell_type": "code",
   "execution_count": 104,
   "metadata": {},
   "outputs": [
    {
     "data": {
      "text/plain": [
       "Ridge()"
      ]
     },
     "execution_count": 104,
     "metadata": {},
     "output_type": "execute_result"
    }
   ],
   "source": [
    "# Fitting model\n",
    "ridge_reg.fit(xtrain,ytrain)"
   ]
  },
  {
   "cell_type": "code",
   "execution_count": 105,
   "metadata": {},
   "outputs": [
    {
     "data": {
      "text/plain": [
       "array([-2.00247008e+03, -4.22683791e-01,  3.83440097e+01,  2.09525169e+02,\n",
       "        3.86680935e+00, -1.30363431e+03,  4.83287909e+01,  1.45986578e+02,\n",
       "        3.23250889e+02, -1.28868072e+03])"
      ]
     },
     "execution_count": 105,
     "metadata": {},
     "output_type": "execute_result"
    }
   ],
   "source": [
    "ridge_reg.coef_"
   ]
  },
  {
   "cell_type": "code",
   "execution_count": 106,
   "metadata": {},
   "outputs": [
    {
     "data": {
      "text/plain": [
       "52568.16382965696"
      ]
     },
     "execution_count": 106,
     "metadata": {},
     "output_type": "execute_result"
    }
   ],
   "source": [
    "ridge_reg.intercept_"
   ]
  },
  {
   "cell_type": "code",
   "execution_count": 107,
   "metadata": {},
   "outputs": [],
   "source": [
    "# Prediction on unseen data\n",
    "ridge_pred = ridge_reg.predict(xtest)"
   ]
  },
  {
   "cell_type": "code",
   "execution_count": 108,
   "metadata": {},
   "outputs": [
    {
     "data": {
      "text/plain": [
       "420.8571086200872"
      ]
     },
     "execution_count": 108,
     "metadata": {},
     "output_type": "execute_result"
    }
   ],
   "source": [
    "# MAE\n",
    "ridge_mae = mean_absolute_error(ytest,ridge_pred)\n",
    "ridge_mae"
   ]
  },
  {
   "cell_type": "code",
   "execution_count": 109,
   "metadata": {},
   "outputs": [
    {
     "data": {
      "text/plain": [
       "311451.2875867586"
      ]
     },
     "execution_count": 109,
     "metadata": {},
     "output_type": "execute_result"
    }
   ],
   "source": [
    "# MSE\n",
    "ridge_mse = mean_squared_error(ytest,ridge_pred)\n",
    "ridge_mse"
   ]
  },
  {
   "cell_type": "code",
   "execution_count": 110,
   "metadata": {},
   "outputs": [
    {
     "data": {
      "text/plain": [
       "558.07820920258"
      ]
     },
     "execution_count": 110,
     "metadata": {},
     "output_type": "execute_result"
    }
   ],
   "source": [
    "# RMSE\n",
    "ridge_rmse = mean_squared_error(ytest,ridge_pred,squared=False)\n",
    "ridge_rmse"
   ]
  },
  {
   "cell_type": "code",
   "execution_count": 111,
   "metadata": {},
   "outputs": [
    {
     "data": {
      "text/plain": [
       "1.0"
      ]
     },
     "execution_count": 111,
     "metadata": {},
     "output_type": "execute_result"
    }
   ],
   "source": [
    "# Exploring the alpha parameter --> lambda\n",
    "ridge_reg.alpha"
   ]
  },
  {
   "cell_type": "markdown",
   "metadata": {},
   "source": [
    "alpha = 1.0 is the default value.\n",
    "\n",
    "Let's play around with different alpha values to identify which gives optimum performance."
   ]
  },
  {
   "cell_type": "code",
   "execution_count": 136,
   "metadata": {},
   "outputs": [],
   "source": [
    "from sklearn.model_selection import cross_val_score\n",
    "# alpha_space = [0.001,0.1,1,5,10]\n",
    "alpha_space = [10,20,30,50,100]\n",
    "ridge_scores = []\n",
    "for alpha in alpha_space:\n",
    "    val = np.mean(cross_val_score(Ridge(alpha=alpha), xtrain, ytrain, cv = 5))\n",
    "    ridge_scores.append(val)"
   ]
  },
  {
   "cell_type": "code",
   "execution_count": 137,
   "metadata": {},
   "outputs": [
    {
     "data": {
      "image/png": "[encoded data removed]",
      "text/plain": [
       "<Figure size 576x576 with 1 Axes>"
      ]
     },
     "metadata": {
      "needs_background": "light"
     },
     "output_type": "display_data"
    }
   ],
   "source": [
    "plt.figure(figsize=(8, 8))\n",
    "plt.plot(alpha_space, ridge_scores, marker = 'D', label = \"Ridge\")\n",
    "plt.legend()\n",
    "plt.show()"
   ]
  },
  {
   "cell_type": "markdown",
   "metadata": {},
   "source": [
    "**`Lasso Regression`**\n",
    "\n",
    "👉 Lasso regression is another variant of the regularization technique used to reduce the complexity of the model. It stands for Least Absolute and Selection Operator.\n",
    "\n",
    "👉 It is similar to the Ridge Regression except that the penalty term includes the absolute weights instead of a square of weights. Therefore, the optimization function becomes:\n",
    "![alt text](https://miro.medium.com/max/1094/1*tHJ4sSPYV0bDr8xxEdiwXA.png \"L1\")\n",
    "\n",
    "👉 In statistics, it is known as the L-1 norm.\n",
    "\n",
    "👉 In this technique, the L1 penalty has the effect of forcing some of the coefficient estimates to be exactly equal to zero which means there is a complete removal of some of the features for model evaluation when the tuning parameter λ is sufficiently large. Therefore, the lasso method also performs feature selection and is said to yield sparse models."
   ]
  },
  {
   "cell_type": "code",
   "execution_count": 114,
   "metadata": {},
   "outputs": [],
   "source": [
    "# Instantiating model object\n",
    "from sklearn.linear_model import Lasso\n",
    "lasso_reg = Lasso()"
   ]
  },
  {
   "cell_type": "code",
   "execution_count": 115,
   "metadata": {},
   "outputs": [
    {
     "data": {
      "text/plain": [
       "Lasso()"
      ]
     },
     "execution_count": 115,
     "metadata": {},
     "output_type": "execute_result"
    }
   ],
   "source": [
    "# Fitting the train data\n",
    "lasso_reg.fit(xtrain,ytrain)"
   ]
  },
  {
   "cell_type": "code",
   "execution_count": 116,
   "metadata": {},
   "outputs": [
    {
     "data": {
      "text/plain": [
       "array([-2.09207326e+03, -7.42125650e-01,  3.23708512e+01,  4.03962066e+03,\n",
       "        3.11117528e+00, -1.40202890e+03,  2.10206251e+01,  1.97332292e+02,\n",
       "        4.16224908e+02, -1.48003815e+03])"
      ]
     },
     "execution_count": 116,
     "metadata": {},
     "output_type": "execute_result"
    }
   ],
   "source": [
    "lasso_reg.coef_"
   ]
  },
  {
   "cell_type": "code",
   "execution_count": 117,
   "metadata": {},
   "outputs": [
    {
     "data": {
      "text/plain": [
       "54508.32126157908"
      ]
     },
     "execution_count": 117,
     "metadata": {},
     "output_type": "execute_result"
    }
   ],
   "source": [
    "lasso_reg.intercept_"
   ]
  },
  {
   "cell_type": "code",
   "execution_count": 118,
   "metadata": {},
   "outputs": [],
   "source": [
    "# Prediction on unseen data\n",
    "lasso_pred = lasso_reg.predict(xtest)"
   ]
  },
  {
   "cell_type": "code",
   "execution_count": 119,
   "metadata": {},
   "outputs": [
    {
     "data": {
      "text/plain": [
       "424.00933998643313"
      ]
     },
     "execution_count": 119,
     "metadata": {},
     "output_type": "execute_result"
    }
   ],
   "source": [
    "# MAE\n",
    "lasso_mae = mean_absolute_error(ytest,lasso_pred)\n",
    "lasso_mae"
   ]
  },
  {
   "cell_type": "code",
   "execution_count": 120,
   "metadata": {},
   "outputs": [
    {
     "data": {
      "text/plain": [
       "322574.07516131597"
      ]
     },
     "execution_count": 120,
     "metadata": {},
     "output_type": "execute_result"
    }
   ],
   "source": [
    "# MSE\n",
    "lasso_mse = mean_squared_error(ytest,lasso_pred)\n",
    "lasso_mse"
   ]
  },
  {
   "cell_type": "code",
   "execution_count": 121,
   "metadata": {},
   "outputs": [
    {
     "data": {
      "text/plain": [
       "567.9560503782982"
      ]
     },
     "execution_count": 121,
     "metadata": {},
     "output_type": "execute_result"
    }
   ],
   "source": [
    "# RMSE\n",
    "lasso_rmse = mean_squared_error(ytest,lasso_pred,squared=False)\n",
    "lasso_rmse"
   ]
  },
  {
   "cell_type": "code",
   "execution_count": 122,
   "metadata": {},
   "outputs": [],
   "source": [
    "# Tweaking alpha values to determine optimum performing model\n",
    "lasso_scores = []\n",
    "for alpha in alpha_space:\n",
    "    val = np.mean(cross_val_score(Lasso(alpha=alpha), xtrain, ytrain, cv = 10))\n",
    "    lasso_scores.append(val)"
   ]
  },
  {
   "cell_type": "code",
   "execution_count": 123,
   "metadata": {},
   "outputs": [
    {
     "data": {
      "image/png": "[encoded data removed]",
      "text/plain": [
       "<Figure size 576x576 with 1 Axes>"
      ]
     },
     "metadata": {
      "needs_background": "light"
     },
     "output_type": "display_data"
    }
   ],
   "source": [
    "plt.figure(figsize=(8, 8))\n",
    "plt.plot(alpha_space, lasso_scores, marker = 'D', label = \"Lasso\")\n",
    "plt.legend()\n",
    "plt.show()"
   ]
  },
  {
   "cell_type": "markdown",
   "metadata": {},
   "source": [
    "**`Key Differences between Ridge and Lasso Regression`**\n",
    "\n",
    "👉 Ridge regression helps us to reduce only the overfitting in the model while keeping all the features present in the model. It reduces the complexity of the model by shrinking the coefficients whereas Lasso regression helps in reducing the problem of overfitting in the model as well as automatic feature selection.\n",
    "\n",
    "👉 Lasso Regression tends to make coefficients to absolute zero whereas Ridge regression never sets the value of coefficient to absolute zero."
   ]
  },
  {
   "cell_type": "markdown",
   "metadata": {},
   "source": [
    "#### Elastic Net Regression\n",
    "- The elastic net algorithm uses a weighted combination of L1 and L2 regularization. \n",
    "- A hyperparameter “alpha” is provided to assign how much weight is given to each of the L1 and L2 penalties. Alpha is a value between 0 and 1 and is used to weight the contribution of the L1 penalty and one minus the alpha value is used to weight the L2 penalty.\n",
    "- elastic_net_penalty = (alpha * l1_penalty) + ((1 – alpha) * l2_penalty)\n",
    "\n",
    "For example, an alpha of 0.5 would provide a 50 percent contribution of each penalty to the loss function. An alpha value of 0 gives all weight to the L2 penalty and a value of 1 gives all weight to the L1 penalty.\n",
    "\n",
    "- The benefit is that elastic net allows a balance of both penalties, which can result in better performance than a model with either one or the other penalty on some problems.\n",
    "- Another hyperparameter is provided called “lambda” that controls the weighting of the sum of both penalties to the loss function. A default value of 1.0 is used to use the fully weighted penalty; a value of 0 excludes the penalty. Very small values of lambada, such as 1e-3 or smaller, are common.\n",
    "- elastic_net_loss = loss + (lambda * elastic_net_penalty)"
   ]
  },
  {
   "cell_type": "code",
   "execution_count": 124,
   "metadata": {},
   "outputs": [],
   "source": [
    "from sklearn.linear_model import ElasticNet"
   ]
  },
  {
   "cell_type": "code",
   "execution_count": 125,
   "metadata": {},
   "outputs": [],
   "source": [
    "# Instantiating model object\n",
    "enet = ElasticNet()"
   ]
  },
  {
   "cell_type": "code",
   "execution_count": 126,
   "metadata": {},
   "outputs": [
    {
     "data": {
      "text/plain": [
       "ElasticNet()"
      ]
     },
     "execution_count": 126,
     "metadata": {},
     "output_type": "execute_result"
    }
   ],
   "source": [
    "# Fitting the train data\n",
    "enet.fit(xtrain,ytrain)"
   ]
  },
  {
   "cell_type": "code",
   "execution_count": 127,
   "metadata": {},
   "outputs": [
    {
     "data": {
      "text/plain": [
       "array([-643.3919268 ,    0.69368872,   47.27531368,    8.8288902 ,\n",
       "          6.12787664, -296.23849656,   -5.65247158,  -34.82674879,\n",
       "         48.38422787, -174.55131376])"
      ]
     },
     "execution_count": 127,
     "metadata": {},
     "output_type": "execute_result"
    }
   ],
   "source": [
    "enet.coef_"
   ]
  },
  {
   "cell_type": "code",
   "execution_count": 128,
   "metadata": {},
   "outputs": [
    {
     "data": {
      "text/plain": [
       "28154.79150766311"
      ]
     },
     "execution_count": 128,
     "metadata": {},
     "output_type": "execute_result"
    }
   ],
   "source": [
    "enet.intercept_"
   ]
  },
  {
   "cell_type": "code",
   "execution_count": 129,
   "metadata": {},
   "outputs": [],
   "source": [
    "# Prediction on unseen data\n",
    "enet_pred = enet.predict(xtest)"
   ]
  },
  {
   "cell_type": "code",
   "execution_count": 130,
   "metadata": {},
   "outputs": [
    {
     "data": {
      "text/plain": [
       "701.0418378765268"
      ]
     },
     "execution_count": 130,
     "metadata": {},
     "output_type": "execute_result"
    }
   ],
   "source": [
    "# MAE\n",
    "enet_mae = mean_absolute_error(ytest,enet_pred)\n",
    "enet_mae"
   ]
  },
  {
   "cell_type": "code",
   "execution_count": 131,
   "metadata": {},
   "outputs": [
    {
     "data": {
      "text/plain": [
       "760881.2466372867"
      ]
     },
     "execution_count": 131,
     "metadata": {},
     "output_type": "execute_result"
    }
   ],
   "source": [
    "# MSE\n",
    "enet_mse = mean_squared_error(ytest,enet_pred)\n",
    "enet_mse"
   ]
  },
  {
   "cell_type": "code",
   "execution_count": 132,
   "metadata": {},
   "outputs": [
    {
     "data": {
      "text/plain": [
       "872.2850718872166"
      ]
     },
     "execution_count": 132,
     "metadata": {},
     "output_type": "execute_result"
    }
   ],
   "source": [
    "# RMSE\n",
    "enet_rmse = mean_squared_error(ytest,enet_pred,squared=False)\n",
    "enet_rmse"
   ]
  },
  {
   "cell_type": "code",
   "execution_count": 133,
   "metadata": {},
   "outputs": [
    {
     "name": "stderr",
     "output_type": "stream",
     "text": [
      "C:\\Users\\Swastik\\anaconda3\\lib\\site-packages\\sklearn\\linear_model\\_coordinate_descent.py:530: ConvergenceWarning: Objective did not converge. You might want to increase the number of iterations. Duality gap: 67015917.056982845, tolerance: 19378.867205405408\n",
      "  model = cd_fast.enet_coordinate_descent(\n",
      "C:\\Users\\Swastik\\anaconda3\\lib\\site-packages\\sklearn\\linear_model\\_coordinate_descent.py:530: ConvergenceWarning: Objective did not converge. You might want to increase the number of iterations. Duality gap: 69840393.84559841, tolerance: 19711.479855405407\n",
      "  model = cd_fast.enet_coordinate_descent(\n",
      "C:\\Users\\Swastik\\anaconda3\\lib\\site-packages\\sklearn\\linear_model\\_coordinate_descent.py:530: ConvergenceWarning: Objective did not converge. You might want to increase the number of iterations. Duality gap: 69091269.88354036, tolerance: 20849.65415135135\n",
      "  model = cd_fast.enet_coordinate_descent(\n",
      "C:\\Users\\Swastik\\anaconda3\\lib\\site-packages\\sklearn\\linear_model\\_coordinate_descent.py:530: ConvergenceWarning: Objective did not converge. You might want to increase the number of iterations. Duality gap: 69382123.01825973, tolerance: 19382.034328000005\n",
      "  model = cd_fast.enet_coordinate_descent(\n",
      "C:\\Users\\Swastik\\anaconda3\\lib\\site-packages\\sklearn\\linear_model\\_coordinate_descent.py:530: ConvergenceWarning: Objective did not converge. You might want to increase the number of iterations. Duality gap: 68547683.21436301, tolerance: 18657.354066666667\n",
      "  model = cd_fast.enet_coordinate_descent(\n",
      "C:\\Users\\Swastik\\anaconda3\\lib\\site-packages\\sklearn\\linear_model\\_coordinate_descent.py:530: ConvergenceWarning: Objective did not converge. You might want to increase the number of iterations. Duality gap: 66342859.9490922, tolerance: 18542.211472\n",
      "  model = cd_fast.enet_coordinate_descent(\n",
      "C:\\Users\\Swastik\\anaconda3\\lib\\site-packages\\sklearn\\linear_model\\_coordinate_descent.py:530: ConvergenceWarning: Objective did not converge. You might want to increase the number of iterations. Duality gap: 71402925.48776788, tolerance: 21015.956034666666\n",
      "  model = cd_fast.enet_coordinate_descent(\n",
      "C:\\Users\\Swastik\\anaconda3\\lib\\site-packages\\sklearn\\linear_model\\_coordinate_descent.py:530: ConvergenceWarning: Objective did not converge. You might want to increase the number of iterations. Duality gap: 74393865.30808204, tolerance: 20756.57443466667\n",
      "  model = cd_fast.enet_coordinate_descent(\n",
      "C:\\Users\\Swastik\\anaconda3\\lib\\site-packages\\sklearn\\linear_model\\_coordinate_descent.py:530: ConvergenceWarning: Objective did not converge. You might want to increase the number of iterations. Duality gap: 70188537.62791802, tolerance: 18853.103274666664\n",
      "  model = cd_fast.enet_coordinate_descent(\n",
      "C:\\Users\\Swastik\\anaconda3\\lib\\site-packages\\sklearn\\linear_model\\_coordinate_descent.py:530: ConvergenceWarning: Objective did not converge. You might want to increase the number of iterations. Duality gap: 71533520.09834379, tolerance: 21478.776394666667\n",
      "  model = cd_fast.enet_coordinate_descent(\n"
     ]
    }
   ],
   "source": [
    "# Tuning l1 ratio parameter\n",
    "l1_ratio = [0,0.01,0.1,1]\n",
    "Elasticnet_scores = []\n",
    "for l1 in l1_ratio:\n",
    "    val = np.mean(cross_val_score(ElasticNet(l1_ratio=l1), xtrain, ytrain, cv = 10))\n",
    "    Elasticnet_scores.append(val)"
   ]
  },
  {
   "cell_type": "code",
   "execution_count": 134,
   "metadata": {},
   "outputs": [
    {
     "data": {
      "text/plain": [
       "[0, 0.01, 0.1, 1]"
      ]
     },
     "execution_count": 134,
     "metadata": {},
     "output_type": "execute_result"
    }
   ],
   "source": [
    "l1_ratio"
   ]
  },
  {
   "cell_type": "code",
   "execution_count": 135,
   "metadata": {},
   "outputs": [
    {
     "data": {
      "image/png": "[encoded data removed]",
      "text/plain": [
       "<Figure size 576x576 with 1 Axes>"
      ]
     },
     "metadata": {
      "needs_background": "light"
     },
     "output_type": "display_data"
    }
   ],
   "source": [
    "plt.figure(figsize=(8, 8))\n",
    "plt.plot(l1_ratio, Elasticnet_scores, marker = 'D', label = \"Lasso\")\n",
    "plt.legend()\n",
    "plt.show()"
   ]
  },
  {
   "cell_type": "code",
   "execution_count": 145,
   "metadata": {},
   "outputs": [],
   "source": [
    "### end of notebook"
   ]
  }
 ],
 "metadata": {
  "kernelspec": {
   "display_name": "Python 3",
   "language": "python",
   "name": "python3"
  },
  "language_info": {
   "codemirror_mode": {
    "name": "ipython",
    "version": 3
   },
   "file_extension": ".py",
   "mimetype": "text/x-python",
   "name": "python",
   "nbconvert_exporter": "python",
   "pygments_lexer": "ipython3",
   "version": "3.8.8"
  }
 },
 "nbformat": 4,
 "nbformat_minor": 2
}
